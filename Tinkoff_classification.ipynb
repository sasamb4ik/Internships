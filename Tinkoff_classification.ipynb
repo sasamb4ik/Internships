{
  "nbformat": 4,
  "nbformat_minor": 0,
  "metadata": {
    "kernelspec": {
      "display_name": "Python 3",
      "language": "python",
      "name": "python3"
    },
    "language_info": {
      "codemirror_mode": {
        "name": "ipython",
        "version": 3
      },
      "file_extension": ".py",
      "mimetype": "text/x-python",
      "name": "python",
      "nbconvert_exporter": "python",
      "pygments_lexer": "ipython3",
      "version": "3.7.3"
    },
    "colab": {
      "provenance": []
    }
  },
  "cells": [
    {
      "cell_type": "markdown",
      "metadata": {
        "id": "IN1n1w43PGwa"
      },
      "source": [
        "# Домашнее задание\n",
        "\n",
        "Всего у вас 2 домашних задания:\n",
        "\n",
        "### 1) Бинарная классификация на примере детекции фрода на кредитных картах (6 баллов)\n",
        "(в этом файле)\n",
        "\n",
        "### 2) Небинарная классификация на вашем датасете (6 баллов)\n",
        "(тоже в этом файле)\n",
        "\n",
        "# 1 - Бинарная классификация на примере детекции фрода на кредитных картах (суммарно 6 баллов)\n",
        "У вас есть информация о множесте транзакций. Вам нужно научиться предсказывать, какие из них мошеннические, а какие нет."
      ]
    },
    {
      "cell_type": "code",
      "metadata": {
        "id": "Qup_PmHYSqcz"
      },
      "source": [
        "import pandas as pd\n",
        "import matplotlib.pyplot as plt\n",
        "import seaborn as sns\n",
        "import matplotlib.pyplot as plt\n",
        "import plotly as pl\n",
        "import numpy as np\n",
        "from sklearn.model_selection import train_test_split, GridSearchCV, cross_val_score\n",
        "from sklearn.metrics import accuracy_score, recall_score, precision_score, f1_score, roc_auc_score, roc_curve\n",
        "from sklearn.neighbors import KNeighborsClassifier\n",
        "from sklearn.linear_model import LogisticRegression\n",
        "from sklearn.preprocessing import StandardScaler, RobustScaler\n",
        "from sklearn.svm import LinearSVC"
      ],
      "execution_count": null,
      "outputs": []
    },
    {
      "cell_type": "markdown",
      "metadata": {
        "id": "CJHC0xk8PGwe"
      },
      "source": [
        "### (1 балл) Считайте данные\n",
        "Сами считайте и предобработайте, если надо, данные из файла creditcard.csv"
      ]
    },
    {
      "cell_type": "code",
      "metadata": {
        "id": "l61Kdjw9PGwf"
      },
      "source": [
        "data = pd.read_csv(r'/content/creditcard.csv')\n",
        "\n",
        "X = data.drop(['Class'], axis = 1)\n",
        "y = data['Class']\n",
        "\n",
        "# необходимо отмасштабировать Time & Amount\n",
        "\n",
        "rob_scaler = RobustScaler( )\n",
        "data['scaled_amount'] = rob_scaler.fit_transform(data['Amount'].values.reshape(-1, 1))\n",
        "data['scaled_time'] = rob_scaler.fit_transform(data['Time'].values.reshape(-1, 1))\n",
        "\n",
        "data_scaled = data.drop(['Time', 'Amount'], axis = 1)\n",
        "\n",
        "# отмасштабировали Time и Amount\n",
        "\n",
        "\n",
        "X_train, X_test, y_train, y_test = train_test_split(X, y, test_size = 0.25, random_state = 42)"
      ],
      "execution_count": null,
      "outputs": []
    },
    {
      "cell_type": "markdown",
      "metadata": {
        "id": "c-cEGEzDPGwg"
      },
      "source": [
        "### (2 балла) Обучите несколько моделей, посмотрите на метрики.\n",
        "Как модели точно возьмите LogisticRegression, KNN и константу, можете придумать еще какие-нибудь.\n",
        "\n",
        "Как метрики точно возьмите accuracy, precision, recall, f1, roc_auc. Постройте ROC-кривую."
      ]
    },
    {
      "cell_type": "code",
      "metadata": {
        "id": "GSzhxmvTPGwh",
        "colab": {
          "base_uri": "https://localhost:8080/",
          "height": 614
        },
        "outputId": "8fa8d87e-945a-4747-98ef-d14cea4ce96c"
      },
      "source": [
        "# константа: фрод - 1, не фрод - 0\n",
        "# всего фродов в таргете 492, всего значений в таргете 284807, т.е. скор будет хороший\n",
        "# если мы просто будем для каждой транзакции говорить, что это не фрод\n",
        "\n",
        "model_const = np.zeros(shape = len(X_test))\n",
        "\n",
        "accuracy_const = accuracy_score(y_test, model_const)\n",
        "precision_const = precision_score(y_test, model_const)\n",
        "recall_const = recall_score(y_test, model_const)\n",
        "f1_const = f1_score(y_test, model_const)\n",
        "roc_auc_const = roc_auc_score(y_test, model_const)\n",
        "\n",
        "metrics = pd.DataFrame(columns = ['accuracy', 'precision', 'recall', 'f1', 'roc_auc'], \\\n",
        "                       data = [[accuracy_const, precision_const, recall_const, f1_const, roc_auc_const]])\n",
        "# roc - кривая\n",
        "\n",
        "plt.figure(figsize=(7, 7))\n",
        "fpr, tpr, thresholds = roc_curve(y_test, model_const)\n",
        "plt.plot(fpr, tpr, 'b', linewidth=3)\n",
        "plt.plot([0, 1], [0, 1], 'y--')\n",
        "plt.plot([0, 0], [0, 1], 'y')\n",
        "plt.plot([1, 1], [0, 1], 'y')\n",
        "plt.plot([0, 1], [0, 0], 'y')\n",
        "plt.plot([0, 1], [1, 1], 'y')\n",
        "plt.xlabel('False positive rate')\n",
        "plt.ylabel('True positive rate')\n",
        "plt.xlim((0, 1))\n",
        "plt.ylim((0, 1))\n",
        "plt.axis('equal')\n",
        "plt.title('ROC curve')\n",
        "plt.show()\n",
        "\n",
        "\n",
        "\n",
        "for item in metrics.columns:\n",
        "  print('{} score is {}'.format(item, metrics[item].values[0]))"
      ],
      "execution_count": null,
      "outputs": [
        {
          "output_type": "stream",
          "name": "stderr",
          "text": [
            "/usr/local/lib/python3.7/dist-packages/sklearn/metrics/_classification.py:1308: UndefinedMetricWarning:\n",
            "\n",
            "Precision is ill-defined and being set to 0.0 due to no predicted samples. Use `zero_division` parameter to control this behavior.\n",
            "\n"
          ]
        },
        {
          "output_type": "display_data",
          "data": {
            "image/png": "[encoded data removed]",
            "text/plain": [
              "<Figure size 504x504 with 1 Axes>"
            ]
          },
          "metadata": {
            "needs_background": "light"
          }
        },
        {
          "output_type": "stream",
          "name": "stdout",
          "text": [
            "accuracy score is 0.9984129659279234\n",
            "precision score is 0.0\n",
            "recall score is 0.0\n",
            "f1 score is 0.0\n",
            "roc_auc score is 0.5\n"
          ]
        }
      ]
    },
    {
      "cell_type": "code",
      "metadata": {
        "id": "mGdXXyWdPGwh",
        "colab": {
          "base_uri": "https://localhost:8080/",
          "height": 545
        },
        "outputId": "8802032e-1475-4d86-9016-5e215d5abe81"
      },
      "source": [
        "# KNN \n",
        "\n",
        "model_knn = KNeighborsClassifier( )\n",
        "model_knn.fit(X_train, y_train)\n",
        "y_pred_knn = model_knn.predict(X_test)\n",
        "\n",
        "accuracy_knn = accuracy_score(y_test, y_pred_knn)\n",
        "precision_knn = precision_score(y_test, y_pred_knn)\n",
        "recall_knn = recall_score(y_test, y_pred_knn)\n",
        "f1_knn = f1_score(y_test, y_pred_knn)\n",
        "roc_auc_knn = roc_auc_score(y_test, y_pred_knn)\n",
        "\n",
        "plt.figure(figsize=(7, 7))\n",
        "fpr, tpr, thresholds = roc_curve(y_test, y_pred_knn)\n",
        "plt.plot(fpr, tpr, 'b', linewidth=3)\n",
        "plt.plot([0, 1], [0, 1], 'r--')\n",
        "plt.plot([0, 0], [0, 1], 'r')\n",
        "plt.plot([1, 1], [0, 1], 'r')\n",
        "plt.plot([0, 1], [0, 0], 'r')\n",
        "plt.plot([0, 1], [1, 1], 'r')\n",
        "plt.xlabel('False positive rate')\n",
        "plt.ylabel('True positive rate')\n",
        "plt.xlim((0, 1))\n",
        "plt.ylim((0, 1))\n",
        "plt.axis('equal')\n",
        "plt.title('ROC curve')\n",
        "plt.show()\n",
        "\n",
        "\n",
        "metrics_knn = pd.DataFrame(columns = ['accuracy', 'precision', 'recall', 'f1', 'roc_auc'], \\\n",
        "                       data = [[accuracy_knn, precision_knn, recall_knn, f1_knn, roc_auc_knn]])\n",
        "\n",
        "for item in metrics_knn.columns:\n",
        "  print('{} score is {}'.format(item, metrics_knn[item].values[0]))\n"
      ],
      "execution_count": null,
      "outputs": [
        {
          "output_type": "display_data",
          "data": {
            "image/png": "[encoded data removed]",
            "text/plain": [
              "<Figure size 504x504 with 1 Axes>"
            ]
          },
          "metadata": {
            "needs_background": "light"
          }
        },
        {
          "output_type": "stream",
          "name": "stdout",
          "text": [
            "accuracy score is 0.9985112777730962\n",
            "precision score is 1.0\n",
            "recall score is 0.061946902654867256\n",
            "f1 score is 0.11666666666666665\n",
            "roc_auc score is 0.5309734513274337\n"
          ]
        }
      ]
    },
    {
      "cell_type": "code",
      "metadata": {
        "id": "LaUYUNd1YcQ2",
        "colab": {
          "base_uri": "https://localhost:8080/",
          "height": 545
        },
        "outputId": "7d6334dc-048a-47bc-d3f1-81df58fc6a9a"
      },
      "source": [
        "# Logistic Regression\n",
        "\n",
        "model_logreg = LogisticRegression(max_iter = 1000)\n",
        "model_logreg.fit(X_train, y_train)\n",
        "y_pred_logreg = model_logreg.predict(X_test)\n",
        "\n",
        "accuracy_logreg = accuracy_score(y_test, y_pred_logreg)\n",
        "precision_logreg = precision_score(y_test, y_pred_logreg)\n",
        "recall_logreg = recall_score(y_test, y_pred_logreg)\n",
        "f1_logreg = f1_score(y_test, y_pred_logreg)\n",
        "roc_auc_logreg = roc_auc_score(y_test, y_pred_logreg)\n",
        "\n",
        "plt.figure(figsize=(7, 7))\n",
        "fpr, tpr, thresholds = roc_curve(y_test, y_pred_logreg)\n",
        "plt.plot(fpr, tpr, 'b', linewidth=3)\n",
        "plt.plot([0, 1], [0, 1], 'g--')\n",
        "plt.plot([0, 0], [0, 1], 'g')\n",
        "plt.plot([1, 1], [0, 1], 'g')\n",
        "plt.plot([0, 1], [0, 0], 'g')\n",
        "plt.plot([0, 1], [1, 1], 'g')\n",
        "plt.xlabel('False positive rate')\n",
        "plt.ylabel('True positive rate')\n",
        "plt.xlim((0, 1))\n",
        "plt.ylim((0, 1))\n",
        "plt.axis('equal')\n",
        "plt.title('ROC curve')\n",
        "plt.show()\n",
        "\n",
        "\n",
        "metrics_logreg = pd.DataFrame(columns = ['accuracy', 'precision', 'recall', 'f1', 'roc_auc'], \\\n",
        "                       data = [[accuracy_logreg, precision_logreg, recall_logreg, f1_logreg, roc_auc_logreg]])\n",
        "\n",
        "for item in metrics_logreg.columns:\n",
        "  print('{} score is {}'.format(item, metrics_logreg[item].values[0]))"
      ],
      "execution_count": null,
      "outputs": [
        {
          "output_type": "display_data",
          "data": {
            "image/png": "[encoded data removed]",
            "text/plain": [
              "<Figure size 504x504 with 1 Axes>"
            ]
          },
          "metadata": {
            "needs_background": "light"
          }
        },
        {
          "output_type": "stream",
          "name": "stdout",
          "text": [
            "accuracy score is 0.9990590151962023\n",
            "precision score is 0.7948717948717948\n",
            "recall score is 0.5486725663716814\n",
            "f1 score is 0.6492146596858639\n",
            "roc_auc score is 0.7742237481944918\n"
          ]
        }
      ]
    },
    {
      "cell_type": "markdown",
      "metadata": {
        "id": "QVIjnU37PGwi"
      },
      "source": [
        "### (1 балл) Выберите одну метрику, которую вы будете максимизировать\n",
        "\n",
        "Представьте, что вы решаете задачу автоматического поиска мошеннических транзакций, чтобы ваш робот автоматически банил пользователей, который их осуществляют.\n",
        "\n",
        "Обоснуйте свой выбор."
      ]
    },
    {
      "cell_type": "code",
      "metadata": {
        "id": "CHiTm0_uPGwj"
      },
      "source": [
        "# нужно максимизировать полноту. нам нестрашно, если мы забаним немошенническую транзакцию, человек потом \n",
        "# позвонит в поддержку и деньги вернут, но если мы упустим мошенническую транзакцию - это будет очень плохо,\n",
        "# потому что клиент лишится денег, мы потеряем клиента и будут проблемы "
      ],
      "execution_count": null,
      "outputs": []
    },
    {
      "cell_type": "markdown",
      "metadata": {
        "id": "eSGj4sn-PGwj"
      },
      "source": [
        "### (2 балла) Переберите гиперпараметры разных моделей, попытайтесь добиться лучшего результата по этой метрике\n",
        "\n",
        "Постройте график для каждого перебора, сделайте красивый отчет (не надо просто говорить \"я решил выбрать 2, 0.7 и 6, так не пойдет\".\n",
        "\n",
        "Можно преобразовывать датасет, преобразовывать, добавлять, удалять фичи, всё что угодно.\n",
        "\n",
        "Отсутствие результата тоже результат (вдруг вы перебрали кучу вещей, а лучший все еще самый первый запуск, главное что перебрали)."
      ]
    },
    {
      "cell_type": "code",
      "metadata": {
        "colab": {
          "base_uri": "https://localhost:8080/",
          "height": 497
        },
        "id": "9Lr1NcNzwYDW",
        "outputId": "1a12763e-9a1d-4651-b51a-24bfb2b1d4ca"
      },
      "source": [
        "\n",
        "plt.figure(figsize=(11,6))\n",
        "sns.distplot(data['Time'],kde=False)\n",
        "plt.title('Distribution of Time', fontsize=17)\n",
        "plt.show()"
      ],
      "execution_count": null,
      "outputs": [
        {
          "output_type": "stream",
          "name": "stderr",
          "text": [
            "/usr/local/lib/python3.7/dist-packages/seaborn/distributions.py:2619: FutureWarning:\n",
            "\n",
            "`distplot` is a deprecated function and will be removed in a future version. Please adapt your code to use either `displot` (a figure-level function with similar flexibility) or `histplot` (an axes-level function for histograms).\n",
            "\n"
          ]
        },
        {
          "output_type": "display_data",
          "data": {
            "image/png": "[encoded data removed]",
            "text/plain": [
              "<Figure size 792x432 with 1 Axes>"
            ]
          },
          "metadata": {
            "needs_background": "light"
          }
        }
      ]
    },
    {
      "cell_type": "code",
      "metadata": {
        "id": "g0dFs2p8xb5s"
      },
      "source": [
        "# украли 0?\n",
        "\n",
        "data[data['Amount'] == 0]\n",
        "\n",
        "# у нас есть странные колонки, где Amount = 0. добавим это в качестве новой фичи\n",
        "\n",
        "data_scaled['amount0'] = np.where(data.Amount == 0, 1, 0)"
      ],
      "execution_count": null,
      "outputs": []
    },
    {
      "cell_type": "markdown",
      "metadata": {
        "id": "ET2ArwxAcZtU"
      },
      "source": [
        "Наши данные сильно несбалансированы. Это может привести к переобучению/нахождению неправильных зависимостей. Будем а) масштабировать (уже это сделали) б) делать сэмплинг (по-русски: добавлять копии к меньшему классу / уменьшать больший класс)"
      ]
    },
    {
      "cell_type": "code",
      "metadata": {
        "id": "WzVv1xaV8SwI",
        "colab": {
          "base_uri": "https://localhost:8080/",
          "height": 380
        },
        "outputId": "d7015e12-d82e-40aa-9fb9-a08bbb0267e5"
      },
      "source": [
        "params = [{\n",
        "    'C': [0.3, 0.5, 0.7, 1],\n",
        "    'penalty': ['l1','l2'],\n",
        "    'class_weight':[{1:1,0:0.3},{1:1,0:0.5},{1:1,0:0.7}]\n",
        "}]\n",
        "\n",
        "clf = LogisticRegression(\n",
        "    n_jobs=-1 \n",
        ")\n",
        "\n",
        "searcher = GridSearchCV(clf, param_grid = params, n_jobs=-1)\n",
        "searcher.fit(X_train, y_train)\n",
        "searcher.best_params\n",
        "\n",
        "# best params C = 1, class_weight = {1: 1, 0: 0.3}, penalty = 'l1', solver = 'liblinear'"
      ],
      "execution_count": null,
      "outputs": [
        {
          "output_type": "error",
          "ename": "KeyboardInterrupt",
          "evalue": "ignored",
          "traceback": [
            "\u001b[0;31m---------------------------------------------------------------------------\u001b[0m",
            "\u001b[0;31mKeyboardInterrupt\u001b[0m                         Traceback (most recent call last)",
            "\u001b[0;32m<ipython-input-104-72b71f305572>\u001b[0m in \u001b[0;36m<module>\u001b[0;34m()\u001b[0m\n\u001b[1;32m     10\u001b[0m \u001b[0;34m\u001b[0m\u001b[0m\n\u001b[1;32m     11\u001b[0m \u001b[0msearcher\u001b[0m \u001b[0;34m=\u001b[0m \u001b[0mGridSearchCV\u001b[0m\u001b[0;34m(\u001b[0m\u001b[0mclf\u001b[0m\u001b[0;34m,\u001b[0m \u001b[0mparam_grid\u001b[0m \u001b[0;34m=\u001b[0m \u001b[0mparams\u001b[0m\u001b[0;34m,\u001b[0m \u001b[0mn_jobs\u001b[0m\u001b[0;34m=\u001b[0m\u001b[0;34m-\u001b[0m\u001b[0;36m1\u001b[0m\u001b[0;34m)\u001b[0m\u001b[0;34m\u001b[0m\u001b[0;34m\u001b[0m\u001b[0m\n\u001b[0;32m---> 12\u001b[0;31m \u001b[0msearcher\u001b[0m\u001b[0;34m.\u001b[0m\u001b[0mfit\u001b[0m\u001b[0;34m(\u001b[0m\u001b[0mX_train\u001b[0m\u001b[0;34m,\u001b[0m \u001b[0my_train\u001b[0m\u001b[0;34m)\u001b[0m\u001b[0;34m\u001b[0m\u001b[0;34m\u001b[0m\u001b[0m\n\u001b[0m\u001b[1;32m     13\u001b[0m \u001b[0msearcher\u001b[0m\u001b[0;34m.\u001b[0m\u001b[0mbest_params\u001b[0m\u001b[0;34m\u001b[0m\u001b[0;34m\u001b[0m\u001b[0m\n\u001b[1;32m     14\u001b[0m \u001b[0;34m\u001b[0m\u001b[0m\n",
            "\u001b[0;32m/usr/local/lib/python3.7/dist-packages/sklearn/model_selection/_search.py\u001b[0m in \u001b[0;36mfit\u001b[0;34m(self, X, y, groups, **fit_params)\u001b[0m\n\u001b[1;32m    889\u001b[0m                 \u001b[0;32mreturn\u001b[0m \u001b[0mresults\u001b[0m\u001b[0;34m\u001b[0m\u001b[0;34m\u001b[0m\u001b[0m\n\u001b[1;32m    890\u001b[0m \u001b[0;34m\u001b[0m\u001b[0m\n\u001b[0;32m--> 891\u001b[0;31m             \u001b[0mself\u001b[0m\u001b[0;34m.\u001b[0m\u001b[0m_run_search\u001b[0m\u001b[0;34m(\u001b[0m\u001b[0mevaluate_candidates\u001b[0m\u001b[0;34m)\u001b[0m\u001b[0;34m\u001b[0m\u001b[0;34m\u001b[0m\u001b[0m\n\u001b[0m\u001b[1;32m    892\u001b[0m \u001b[0;34m\u001b[0m\u001b[0m\n\u001b[1;32m    893\u001b[0m             \u001b[0;31m# multimetric is determined here because in the case of a callable\u001b[0m\u001b[0;34m\u001b[0m\u001b[0;34m\u001b[0m\u001b[0;34m\u001b[0m\u001b[0m\n",
            "\u001b[0;32m/usr/local/lib/python3.7/dist-packages/sklearn/model_selection/_search.py\u001b[0m in \u001b[0;36m_run_search\u001b[0;34m(self, evaluate_candidates)\u001b[0m\n\u001b[1;32m   1390\u001b[0m     \u001b[0;32mdef\u001b[0m \u001b[0m_run_search\u001b[0m\u001b[0;34m(\u001b[0m\u001b[0mself\u001b[0m\u001b[0;34m,\u001b[0m \u001b[0mevaluate_candidates\u001b[0m\u001b[0;34m)\u001b[0m\u001b[0;34m:\u001b[0m\u001b[0;34m\u001b[0m\u001b[0;34m\u001b[0m\u001b[0m\n\u001b[1;32m   1391\u001b[0m         \u001b[0;34m\"\"\"Search all candidates in param_grid\"\"\"\u001b[0m\u001b[0;34m\u001b[0m\u001b[0;34m\u001b[0m\u001b[0m\n\u001b[0;32m-> 1392\u001b[0;31m         \u001b[0mevaluate_candidates\u001b[0m\u001b[0;34m(\u001b[0m\u001b[0mParameterGrid\u001b[0m\u001b[0;34m(\u001b[0m\u001b[0mself\u001b[0m\u001b[0;34m.\u001b[0m\u001b[0mparam_grid\u001b[0m\u001b[0;34m)\u001b[0m\u001b[0;34m)\u001b[0m\u001b[0;34m\u001b[0m\u001b[0;34m\u001b[0m\u001b[0m\n\u001b[0m\u001b[1;32m   1393\u001b[0m \u001b[0;34m\u001b[0m\u001b[0m\n\u001b[1;32m   1394\u001b[0m \u001b[0;34m\u001b[0m\u001b[0m\n",
            "\u001b[0;32m/usr/local/lib/python3.7/dist-packages/sklearn/model_selection/_search.py\u001b[0m in \u001b[0;36mevaluate_candidates\u001b[0;34m(candidate_params, cv, more_results)\u001b[0m\n\u001b[1;32m    849\u001b[0m                     )\n\u001b[1;32m    850\u001b[0m                     for (cand_idx, parameters), (split_idx, (train, test)) in product(\n\u001b[0;32m--> 851\u001b[0;31m                         \u001b[0menumerate\u001b[0m\u001b[0;34m(\u001b[0m\u001b[0mcandidate_params\u001b[0m\u001b[0;34m)\u001b[0m\u001b[0;34m,\u001b[0m \u001b[0menumerate\u001b[0m\u001b[0;34m(\u001b[0m\u001b[0mcv\u001b[0m\u001b[0;34m.\u001b[0m\u001b[0msplit\u001b[0m\u001b[0;34m(\u001b[0m\u001b[0mX\u001b[0m\u001b[0;34m,\u001b[0m \u001b[0my\u001b[0m\u001b[0;34m,\u001b[0m \u001b[0mgroups\u001b[0m\u001b[0;34m)\u001b[0m\u001b[0;34m)\u001b[0m\u001b[0;34m\u001b[0m\u001b[0;34m\u001b[0m\u001b[0m\n\u001b[0m\u001b[1;32m    852\u001b[0m                     )\n\u001b[1;32m    853\u001b[0m                 )\n",
            "\u001b[0;32m/usr/local/lib/python3.7/dist-packages/joblib/parallel.py\u001b[0m in \u001b[0;36m__call__\u001b[0;34m(self, iterable)\u001b[0m\n\u001b[1;32m   1054\u001b[0m \u001b[0;34m\u001b[0m\u001b[0m\n\u001b[1;32m   1055\u001b[0m             \u001b[0;32mwith\u001b[0m \u001b[0mself\u001b[0m\u001b[0;34m.\u001b[0m\u001b[0m_backend\u001b[0m\u001b[0;34m.\u001b[0m\u001b[0mretrieval_context\u001b[0m\u001b[0;34m(\u001b[0m\u001b[0;34m)\u001b[0m\u001b[0;34m:\u001b[0m\u001b[0;34m\u001b[0m\u001b[0;34m\u001b[0m\u001b[0m\n\u001b[0;32m-> 1056\u001b[0;31m                 \u001b[0mself\u001b[0m\u001b[0;34m.\u001b[0m\u001b[0mretrieve\u001b[0m\u001b[0;34m(\u001b[0m\u001b[0;34m)\u001b[0m\u001b[0;34m\u001b[0m\u001b[0;34m\u001b[0m\u001b[0m\n\u001b[0m\u001b[1;32m   1057\u001b[0m             \u001b[0;31m# Make sure that we get a last message telling us we are done\u001b[0m\u001b[0;34m\u001b[0m\u001b[0;34m\u001b[0m\u001b[0;34m\u001b[0m\u001b[0m\n\u001b[1;32m   1058\u001b[0m             \u001b[0melapsed_time\u001b[0m \u001b[0;34m=\u001b[0m \u001b[0mtime\u001b[0m\u001b[0;34m.\u001b[0m\u001b[0mtime\u001b[0m\u001b[0;34m(\u001b[0m\u001b[0;34m)\u001b[0m \u001b[0;34m-\u001b[0m \u001b[0mself\u001b[0m\u001b[0;34m.\u001b[0m\u001b[0m_start_time\u001b[0m\u001b[0;34m\u001b[0m\u001b[0;34m\u001b[0m\u001b[0m\n",
            "\u001b[0;32m/usr/local/lib/python3.7/dist-packages/joblib/parallel.py\u001b[0m in \u001b[0;36mretrieve\u001b[0;34m(self)\u001b[0m\n\u001b[1;32m    933\u001b[0m             \u001b[0;32mtry\u001b[0m\u001b[0;34m:\u001b[0m\u001b[0;34m\u001b[0m\u001b[0;34m\u001b[0m\u001b[0m\n\u001b[1;32m    934\u001b[0m                 \u001b[0;32mif\u001b[0m \u001b[0mgetattr\u001b[0m\u001b[0;34m(\u001b[0m\u001b[0mself\u001b[0m\u001b[0;34m.\u001b[0m\u001b[0m_backend\u001b[0m\u001b[0;34m,\u001b[0m \u001b[0;34m'supports_timeout'\u001b[0m\u001b[0;34m,\u001b[0m \u001b[0;32mFalse\u001b[0m\u001b[0;34m)\u001b[0m\u001b[0;34m:\u001b[0m\u001b[0;34m\u001b[0m\u001b[0;34m\u001b[0m\u001b[0m\n\u001b[0;32m--> 935\u001b[0;31m                     \u001b[0mself\u001b[0m\u001b[0;34m.\u001b[0m\u001b[0m_output\u001b[0m\u001b[0;34m.\u001b[0m\u001b[0mextend\u001b[0m\u001b[0;34m(\u001b[0m\u001b[0mjob\u001b[0m\u001b[0;34m.\u001b[0m\u001b[0mget\u001b[0m\u001b[0;34m(\u001b[0m\u001b[0mtimeout\u001b[0m\u001b[0;34m=\u001b[0m\u001b[0mself\u001b[0m\u001b[0;34m.\u001b[0m\u001b[0mtimeout\u001b[0m\u001b[0;34m)\u001b[0m\u001b[0;34m)\u001b[0m\u001b[0;34m\u001b[0m\u001b[0;34m\u001b[0m\u001b[0m\n\u001b[0m\u001b[1;32m    936\u001b[0m                 \u001b[0;32melse\u001b[0m\u001b[0;34m:\u001b[0m\u001b[0;34m\u001b[0m\u001b[0;34m\u001b[0m\u001b[0m\n\u001b[1;32m    937\u001b[0m                     \u001b[0mself\u001b[0m\u001b[0;34m.\u001b[0m\u001b[0m_output\u001b[0m\u001b[0;34m.\u001b[0m\u001b[0mextend\u001b[0m\u001b[0;34m(\u001b[0m\u001b[0mjob\u001b[0m\u001b[0;34m.\u001b[0m\u001b[0mget\u001b[0m\u001b[0;34m(\u001b[0m\u001b[0;34m)\u001b[0m\u001b[0;34m)\u001b[0m\u001b[0;34m\u001b[0m\u001b[0;34m\u001b[0m\u001b[0m\n",
            "\u001b[0;32m/usr/local/lib/python3.7/dist-packages/joblib/_parallel_backends.py\u001b[0m in \u001b[0;36mwrap_future_result\u001b[0;34m(future, timeout)\u001b[0m\n\u001b[1;32m    540\u001b[0m         AsyncResults.get from multiprocessing.\"\"\"\n\u001b[1;32m    541\u001b[0m         \u001b[0;32mtry\u001b[0m\u001b[0;34m:\u001b[0m\u001b[0;34m\u001b[0m\u001b[0;34m\u001b[0m\u001b[0m\n\u001b[0;32m--> 542\u001b[0;31m             \u001b[0;32mreturn\u001b[0m \u001b[0mfuture\u001b[0m\u001b[0;34m.\u001b[0m\u001b[0mresult\u001b[0m\u001b[0;34m(\u001b[0m\u001b[0mtimeout\u001b[0m\u001b[0;34m=\u001b[0m\u001b[0mtimeout\u001b[0m\u001b[0;34m)\u001b[0m\u001b[0;34m\u001b[0m\u001b[0;34m\u001b[0m\u001b[0m\n\u001b[0m\u001b[1;32m    543\u001b[0m         \u001b[0;32mexcept\u001b[0m \u001b[0mCfTimeoutError\u001b[0m \u001b[0;32mas\u001b[0m \u001b[0me\u001b[0m\u001b[0;34m:\u001b[0m\u001b[0;34m\u001b[0m\u001b[0;34m\u001b[0m\u001b[0m\n\u001b[1;32m    544\u001b[0m             \u001b[0;32mraise\u001b[0m \u001b[0mTimeoutError\u001b[0m \u001b[0;32mfrom\u001b[0m \u001b[0me\u001b[0m\u001b[0;34m\u001b[0m\u001b[0;34m\u001b[0m\u001b[0m\n",
            "\u001b[0;32m/usr/lib/python3.7/concurrent/futures/_base.py\u001b[0m in \u001b[0;36mresult\u001b[0;34m(self, timeout)\u001b[0m\n\u001b[1;32m    428\u001b[0m                 \u001b[0;32mreturn\u001b[0m \u001b[0mself\u001b[0m\u001b[0;34m.\u001b[0m\u001b[0m__get_result\u001b[0m\u001b[0;34m(\u001b[0m\u001b[0;34m)\u001b[0m\u001b[0;34m\u001b[0m\u001b[0;34m\u001b[0m\u001b[0m\n\u001b[1;32m    429\u001b[0m \u001b[0;34m\u001b[0m\u001b[0m\n\u001b[0;32m--> 430\u001b[0;31m             \u001b[0mself\u001b[0m\u001b[0;34m.\u001b[0m\u001b[0m_condition\u001b[0m\u001b[0;34m.\u001b[0m\u001b[0mwait\u001b[0m\u001b[0;34m(\u001b[0m\u001b[0mtimeout\u001b[0m\u001b[0;34m)\u001b[0m\u001b[0;34m\u001b[0m\u001b[0;34m\u001b[0m\u001b[0m\n\u001b[0m\u001b[1;32m    431\u001b[0m \u001b[0;34m\u001b[0m\u001b[0m\n\u001b[1;32m    432\u001b[0m             \u001b[0;32mif\u001b[0m \u001b[0mself\u001b[0m\u001b[0;34m.\u001b[0m\u001b[0m_state\u001b[0m \u001b[0;32min\u001b[0m \u001b[0;34m[\u001b[0m\u001b[0mCANCELLED\u001b[0m\u001b[0;34m,\u001b[0m \u001b[0mCANCELLED_AND_NOTIFIED\u001b[0m\u001b[0;34m]\u001b[0m\u001b[0;34m:\u001b[0m\u001b[0;34m\u001b[0m\u001b[0;34m\u001b[0m\u001b[0m\n",
            "\u001b[0;32m/usr/lib/python3.7/threading.py\u001b[0m in \u001b[0;36mwait\u001b[0;34m(self, timeout)\u001b[0m\n\u001b[1;32m    294\u001b[0m         \u001b[0;32mtry\u001b[0m\u001b[0;34m:\u001b[0m    \u001b[0;31m# restore state no matter what (e.g., KeyboardInterrupt)\u001b[0m\u001b[0;34m\u001b[0m\u001b[0;34m\u001b[0m\u001b[0m\n\u001b[1;32m    295\u001b[0m             \u001b[0;32mif\u001b[0m \u001b[0mtimeout\u001b[0m \u001b[0;32mis\u001b[0m \u001b[0;32mNone\u001b[0m\u001b[0;34m:\u001b[0m\u001b[0;34m\u001b[0m\u001b[0;34m\u001b[0m\u001b[0m\n\u001b[0;32m--> 296\u001b[0;31m                 \u001b[0mwaiter\u001b[0m\u001b[0;34m.\u001b[0m\u001b[0macquire\u001b[0m\u001b[0;34m(\u001b[0m\u001b[0;34m)\u001b[0m\u001b[0;34m\u001b[0m\u001b[0;34m\u001b[0m\u001b[0m\n\u001b[0m\u001b[1;32m    297\u001b[0m                 \u001b[0mgotit\u001b[0m \u001b[0;34m=\u001b[0m \u001b[0;32mTrue\u001b[0m\u001b[0;34m\u001b[0m\u001b[0;34m\u001b[0m\u001b[0m\n\u001b[1;32m    298\u001b[0m             \u001b[0;32melse\u001b[0m\u001b[0;34m:\u001b[0m\u001b[0;34m\u001b[0m\u001b[0;34m\u001b[0m\u001b[0m\n",
            "\u001b[0;31mKeyboardInterrupt\u001b[0m: "
          ]
        }
      ]
    },
    {
      "cell_type": "code",
      "metadata": {
        "id": "ceB95ANoof0Y",
        "colab": {
          "base_uri": "https://localhost:8080/"
        },
        "outputId": "c6cb6906-f9dc-4f5e-aa92-453ed681972a"
      },
      "source": [
        "# Oversampling (сэмплирование меньшего класса)\n",
        "\n",
        "from sklearn.utils import resample\n",
        "\n",
        "y = data_scaled['Class']\n",
        "X = data_scaled.drop(['Class'], axis = 1)\n",
        "\n",
        "X_train, X_test, y_train, y_test = train_test_split(X, y, test_size=0.25, random_state=27)\n",
        "\n",
        "\n",
        "not_fraud = data_scaled[data_scaled.Class==0]\n",
        "fraud = data_scaled[data_scaled.Class==1]\n",
        "\n",
        "fraud_oversampled = resample(fraud, replace=True, n_samples=len(not_fraud))\n",
        "\n",
        "oversampled = pd.concat([not_fraud, fraud_oversampled])\n",
        "\n",
        "y_train = oversampled['Class']\n",
        "X_train = oversampled.drop(['Class'], axis = 1)\n",
        "\n",
        "my_model = LogisticRegression(C = 1, class_weight = {1: 1, 0: 0.3}, penalty = 'l1', solver = 'liblinear')\n",
        "prs = cross_val_score(my_model, X_train, y_train, cv = 5, scoring = 'recall')\n",
        "print(prs.mean())\n",
        " \n",
        "\n"
      ],
      "execution_count": null,
      "outputs": [
        {
          "output_type": "stream",
          "name": "stdout",
          "text": [
            "0.9558728874663667\n"
          ]
        }
      ]
    },
    {
      "cell_type": "code",
      "metadata": {
        "id": "oAYwdoRR9Oof"
      },
      "source": [
        "# получили полноту поприличнее: с 0.6 подняли до 0.956"
      ],
      "execution_count": null,
      "outputs": []
    },
    {
      "cell_type": "code",
      "metadata": {
        "id": "_Uzg9KWtrjjn"
      },
      "source": [
        "# используя SMOTE\n",
        "\n",
        "from imblearn.over_sampling import SMOTE\n",
        "\n",
        "\n",
        "y = data_scaled['Class']\n",
        "X = data_scaled.drop(['Class'], axis=1)\n",
        "X_train, X_test, y_train, y_test = train_test_split(X, y, test_size=0.25, random_state=27)\n",
        "\n",
        "sm = SMOTE(random_state=27)\n",
        "X_train_sm, y_train_sm = sm.fit_resample(X_train, y_train)\n",
        "\n",
        "smote = LogisticRegression(C = 1, class_weight = {1: 1, 0: 0.3}, penalty = 'l1', solver = 'liblinear').fit(X_train_sm, y_train_sm)\n",
        "\n",
        "prs_smote = cross_val_score(smote, X_train_sm, y_train_sm, cv = 5, scoring = 'recall')\n"
      ],
      "execution_count": null,
      "outputs": []
    },
    {
      "cell_type": "code",
      "metadata": {
        "id": "GcVcy2GM3l0P"
      },
      "source": [],
      "execution_count": null,
      "outputs": []
    },
    {
      "cell_type": "markdown",
      "metadata": {
        "id": "RcpojW2uARqv"
      },
      "source": []
    },
    {
      "cell_type": "code",
      "metadata": {
        "id": "KZ1H-PjFtSvd",
        "colab": {
          "base_uri": "https://localhost:8080/"
        },
        "outputId": "07e4a5fb-4d67-4d97-c59b-56e2f6733303"
      },
      "source": [
        "# полнота стала ещё поприличнее: с 0.956 до 0.966\n",
        "print(prs_smote.mean())"
      ],
      "execution_count": null,
      "outputs": [
        {
          "output_type": "stream",
          "name": "stdout",
          "text": [
            "0.9665408333137939\n"
          ]
        }
      ]
    },
    {
      "cell_type": "markdown",
      "metadata": {
        "id": "hFYV8LlJ_5l2"
      },
      "source": [
        "По итогу полнота равна 0.966. Уверен, что можно добить ещё выше, если дольше изучить зависимости, добавить новые фичи, но мне ещё делать вторую часть со своим датасетом :( "
      ]
    },
    {
      "cell_type": "markdown",
      "metadata": {
        "id": "2ujmow6JPGwl"
      },
      "source": [
        "# 2 - Небинарная классификация на вашем датасете (суммарно 6 баллов)"
      ]
    },
    {
      "cell_type": "markdown",
      "metadata": {
        "id": "ry8nvhg9AMxQ"
      },
      "source": [
        "будем классифицировать тексты из sklearn.datasets 20newsgroups"
      ]
    },
    {
      "cell_type": "markdown",
      "metadata": {
        "id": "d6_ln41uPGwl"
      },
      "source": [
        "### (2 балла) Выберите какой-нибудь интересный вам датасет, скачайте его и считайте данные\n",
        "\n",
        "Творческое задание - найти в интернете (или собрать свой даже) датасет, сохранить его в файл, и загрузить сюда.\n",
        "\n",
        "Требования:\n",
        "\n",
        "- он должен быть немаленький (хотя бы 500 объектов, лучше больше)\n",
        "- он должен быть интересный\n",
        "- таргет должен быть небинарным классом\n",
        "\n",
        "Минус балл, если ваш датасет с кем-нибудь повторится."
      ]
    },
    {
      "cell_type": "code",
      "metadata": {
        "colab": {
          "base_uri": "https://localhost:8080/"
        },
        "id": "t4G8BzdTPDBk",
        "outputId": "74d518fe-ebd2-4532-e034-95e3d75f5a3e"
      },
      "source": [
        "from sklearn.datasets import fetch_20newsgroups\n",
        "\n",
        "news_train = fetch_20newsgroups(subset = 'train')\n",
        "news_test = fetch_20newsgroups(subset = 'test')\n",
        "\n",
        "news_train.keys()"
      ],
      "execution_count": null,
      "outputs": [
        {
          "output_type": "execute_result",
          "data": {
            "text/plain": [
              "dict_keys(['data', 'filenames', 'target_names', 'target', 'DESCR'])"
            ]
          },
          "metadata": {},
          "execution_count": 110
        }
      ]
    },
    {
      "cell_type": "code",
      "metadata": {
        "id": "HKaPraQlPGwm",
        "colab": {
          "base_uri": "https://localhost:8080/"
        },
        "outputId": "0f138cf3-0107-4ce9-f03d-df43bc6b04be"
      },
      "source": [
        "# очищение и стоп слова\n",
        "\n",
        "import re\n",
        "import nltk\n",
        "nltk.download('stopwords')\n",
        "nltk.download('punkt')\n",
        "from nltk.corpus import stopwords\n",
        "from nltk.tokenize import word_tokenize\n",
        "from nltk.stem.lancaster import LancasterStemmer\n",
        "\n",
        "def preprocessing(texts):\n",
        "  stop_words = stopwords.words('english')\n",
        "  preprocessing_text = []\n",
        "  for i in range(len(texts)):\n",
        "    text = texts[i].lower()\n",
        "    text = re.sub(pattern = '[^a-z A-Z]', repl = ' ', string = text)\n",
        "    word_tokens = word_tokenize(text)\n",
        "    filtered_sentence = [w for w in word_tokens if w not in stop_words]\n",
        "    preprocessing_text.append(' '.join(filtered_sentence))\n",
        "\n",
        "  return preprocessing_text # тексты приведены к нижнему регистры, удалены лишние символы\n",
        "                            # и стоп слова\n",
        "                  \n"
      ],
      "execution_count": null,
      "outputs": [
        {
          "output_type": "stream",
          "name": "stdout",
          "text": [
            "[nltk_data] Downloading package stopwords to /root/nltk_data...\n",
            "[nltk_data]   Package stopwords is already up-to-date!\n",
            "[nltk_data] Downloading package punkt to /root/nltk_data...\n",
            "[nltk_data]   Package punkt is already up-to-date!\n"
          ]
        }
      ]
    },
    {
      "cell_type": "code",
      "metadata": {
        "id": "pfhbHMDXPGwm"
      },
      "source": [
        "news_train['preprocess_data'] = preprocessing(news_train.data)\n",
        "news_test['preprocess_data'] = preprocessing(news_test.data)\n",
        "\n"
      ],
      "execution_count": null,
      "outputs": []
    },
    {
      "cell_type": "code",
      "metadata": {
        "colab": {
          "base_uri": "https://localhost:8080/"
        },
        "id": "K5CB4Q2oTFaG",
        "outputId": "1553cc98-2918-4d0d-f79c-ff86d7db2a85"
      },
      "source": [
        "print(news_train['preprocess_data'][0])"
      ],
      "execution_count": null,
      "outputs": [
        {
          "output_type": "stream",
          "name": "stdout",
          "text": [
            "lerxst wam umd edu thing subject car nntp posting host rac wam umd edu organization university maryland college park lines wondering anyone could enlighten car saw day door sports car looked late early called bricklin doors really small addition front bumper separate rest body know anyone tellme model name engine specs years production car made history whatever info funky looking car please e mail thanks il brought neighborhood lerxst\n"
          ]
        }
      ]
    },
    {
      "cell_type": "code",
      "metadata": {
        "id": "kV15n5FtTlJH"
      },
      "source": [
        "# стемминг (выделение основы слова)\n",
        "# ещё есть лематизация (приведение слова к начальной форме)\n",
        "\n",
        "def stemming(texts):\n",
        "  st = LancasterStemmer( )\n",
        "  stemmed_text = []\n",
        "  for text in texts:\n",
        "    words = word_tokenize(text)\n",
        "    stemmed_text.append(' '.join(st.stem(word) for word in words))\n",
        "  return stemmed_text\n",
        "\n",
        "news_train['stemming_data'] = stemming(news_train.preprocess_data)\n",
        "news_test['stemming_data'] = stemming(news_test.preprocess_data)"
      ],
      "execution_count": null,
      "outputs": []
    },
    {
      "cell_type": "code",
      "metadata": {
        "colab": {
          "base_uri": "https://localhost:8080/",
          "height": 35
        },
        "id": "nW0YYBEtim1F",
        "outputId": "f8533288-4df3-457b-b24a-65aab2e05d4b"
      },
      "source": [
        "news_train['preprocess_data'][0][42:49]"
      ],
      "execution_count": null,
      "outputs": [
        {
          "output_type": "execute_result",
          "data": {
            "application/vnd.google.colaboratory.intrinsic+json": {
              "type": "string"
            },
            "text/plain": [
              "'posting'"
            ]
          },
          "metadata": {},
          "execution_count": 115
        }
      ]
    },
    {
      "cell_type": "code",
      "metadata": {
        "colab": {
          "base_uri": "https://localhost:8080/",
          "height": 35
        },
        "id": "CpXZ546fiyxl",
        "outputId": "75e39948-f207-4c99-e4a2-39044088d3fc"
      },
      "source": [
        "news_train['stemming_data'][0][42:47]\n",
        "# видим что стемминг сработал - postING превратилось в post "
      ],
      "execution_count": null,
      "outputs": [
        {
          "output_type": "execute_result",
          "data": {
            "application/vnd.google.colaboratory.intrinsic+json": {
              "type": "string"
            },
            "text/plain": [
              "'post '"
            ]
          },
          "metadata": {},
          "execution_count": 116
        }
      ]
    },
    {
      "cell_type": "markdown",
      "metadata": {
        "id": "s1gRfJ2GjL4s"
      },
      "source": [
        "Теперь переведем текст в вещественное пространство признаков\n"
      ]
    },
    {
      "cell_type": "markdown",
      "metadata": {
        "id": "vP8CN33ZEADW"
      },
      "source": [
        "**Пробуем Bag Of Words**"
      ]
    },
    {
      "cell_type": "code",
      "metadata": {
        "id": "ms5WdzQ4jO-r",
        "colab": {
          "base_uri": "https://localhost:8080/"
        },
        "outputId": "8ef18e88-2786-433d-b21b-7b324ea62318"
      },
      "source": [
        "from sklearn.feature_extraction.text import CountVectorizer\n",
        "# будем пользоваться TF-IDF \n",
        "# bag of words просто возвращает матрицу, в которой  i-ой строке j-ом столбце стоит число, которое равно кол-ву слова j в документе i\n",
        "# TF-IDF в отличие от bag of words позволяет узнать какие слова важные и какие менее важные\n",
        "\n",
        "# пример bag of words\n",
        "vector = CountVectorizer( )\n",
        "vector.fit(['я изучаю работу с текстами', 'это пример для bag of words', 'карл у клары украл кораллы'])\n",
        "poz = vector.get_feature_names() # вернет уникальные слова\n",
        "poz"
      ],
      "execution_count": null,
      "outputs": [
        {
          "output_type": "stream",
          "name": "stderr",
          "text": [
            "/usr/local/lib/python3.7/dist-packages/sklearn/utils/deprecation.py:87: FutureWarning:\n",
            "\n",
            "Function get_feature_names is deprecated; get_feature_names is deprecated in 1.0 and will be removed in 1.2. Please use get_feature_names_out instead.\n",
            "\n"
          ]
        },
        {
          "output_type": "execute_result",
          "data": {
            "text/plain": [
              "['bag',\n",
              " 'of',\n",
              " 'words',\n",
              " 'для',\n",
              " 'изучаю',\n",
              " 'карл',\n",
              " 'клары',\n",
              " 'кораллы',\n",
              " 'пример',\n",
              " 'работу',\n",
              " 'текстами',\n",
              " 'украл',\n",
              " 'это']"
            ]
          },
          "metadata": {},
          "execution_count": 117
        }
      ]
    },
    {
      "cell_type": "code",
      "metadata": {
        "colab": {
          "base_uri": "https://localhost:8080/"
        },
        "id": "4F9qZeG9mUmF",
        "outputId": "a1ba8ced-bedf-41b8-e968-9de030800e6d"
      },
      "source": [
        "vector.transform(['я изучаю работу с текстами текстами текстами', 'это пример для для bag of words', 'карл карл карл карл карл у клары украл кораллы']).toarray()\n",
        "\n",
        "# 3 строки - кол-во файлов (3 файла), 13 столбцов - кол-во уникальных слов (13 слов)\n",
        "# если сопоставить слово в каждом файле с порядком слов в vector.get_feature_names, то мы увидим следующее:\n",
        "# например, слово \"текстами\" в 1-ом файле: poz.index('текстами') вернёт 10, в нашей матрице 1 срока (№ текста) и 10 - ое слово равно 3.\n",
        "# то есть в 1 - ом файле слово \"текстами\" стоит под индексом 10 (относительно массива уникальных слов) и равно 3-ём, тк в 1 - ом тексте 3 слова \"текстами\"\n",
        "\n",
        "\n"
      ],
      "execution_count": null,
      "outputs": [
        {
          "output_type": "execute_result",
          "data": {
            "text/plain": [
              "array([[0, 0, 0, 0, 1, 0, 0, 0, 0, 1, 3, 0, 0],\n",
              "       [1, 1, 1, 2, 0, 0, 0, 0, 1, 0, 0, 0, 1],\n",
              "       [0, 0, 0, 0, 0, 5, 1, 1, 0, 0, 0, 1, 0]])"
            ]
          },
          "metadata": {},
          "execution_count": 118
        }
      ]
    },
    {
      "cell_type": "code",
      "metadata": {
        "id": "Cxtdh6gvpdrC"
      },
      "source": [
        "def convertation(vector, train, test):\n",
        "  train_bag_of_words = vector.fit_transform(train)\n",
        "  test_bag_of_words = vector.transform(test)\n",
        "  return train_bag_of_words, test_bag_of_words\n",
        "\n",
        "X_train_BOG, X_test_BOG = convertation(vector, news_train.data, news_test.data)"
      ],
      "execution_count": null,
      "outputs": []
    },
    {
      "cell_type": "code",
      "metadata": {
        "colab": {
          "base_uri": "https://localhost:8080/"
        },
        "id": "FelvbSWJpTjs",
        "outputId": "64ec39b6-01bf-4245-d6d7-f49af5b8d95b"
      },
      "source": [
        "X_test_BOG.shape"
      ],
      "execution_count": null,
      "outputs": [
        {
          "output_type": "execute_result",
          "data": {
            "text/plain": [
              "(7532, 130107)"
            ]
          },
          "metadata": {},
          "execution_count": 120
        }
      ]
    },
    {
      "cell_type": "code",
      "metadata": {
        "id": "ESBfPUhLqECp"
      },
      "source": [
        "# применяем Bag Of Words к обработанным текстами (после очищения и стемминга)\n",
        "X_train_BOG_preprocessed, X_test_BOG_preprocessed = convertation(vector, news_train.preprocess_data, news_test.preprocess_data)\n",
        "X_train_BOG_stemmed, X_test_BOG_stemmed = convertation(vector, news_train.stemming_data, news_test.stemming_data)"
      ],
      "execution_count": null,
      "outputs": []
    },
    {
      "cell_type": "code",
      "metadata": {
        "colab": {
          "base_uri": "https://localhost:8080/"
        },
        "id": "JaS9TKwwsVFA",
        "outputId": "9a5e9b03-2c00-4c94-f1c0-1ac31d8d12ca"
      },
      "source": [
        "(X_train_BOG_preprocessed.shape, X_train_BOG_stemmed.shape) # снизилось со 130к до 88 к и со 130к до 61к"
      ],
      "execution_count": null,
      "outputs": [
        {
          "output_type": "execute_result",
          "data": {
            "text/plain": [
              "((11314, 88863), (11314, 61221))"
            ]
          },
          "metadata": {},
          "execution_count": 122
        }
      ]
    },
    {
      "cell_type": "markdown",
      "metadata": {
        "id": "B95ijmmHtEav"
      },
      "source": [
        "**Теперь применяем TF-IDF преобразование**\n",
        "\n",
        "$ TF(w, d) = \\frac{n_i}{\\sum_k{n_k}}$\n",
        "\n",
        "$ IDF(w, D) = \\log_{}(\\frac{D}{w_i \\subset d_i})$\n",
        "\n",
        "TF - число вхождений слова $n_i$ в документ, $\\sum_k{n_k}$ - количество слов в этом же документе\n",
        "\n",
        "IDF - D - количество документов, ${w_i \\subset d_i}$ - количество документов в которых встретилось данное слово"
      ]
    },
    {
      "cell_type": "code",
      "metadata": {
        "id": "lc-k5jx6u8pe"
      },
      "source": [
        "from sklearn.feature_extraction.text import TfidfVectorizer\n",
        "\n",
        "tf_idf_vector = TfidfVectorizer( )\n",
        "X_train_idf, X_test_idf = convertation(tf_idf_vector, news_train.data, news_test.data)"
      ],
      "execution_count": null,
      "outputs": []
    },
    {
      "cell_type": "code",
      "metadata": {
        "id": "ocXxc8UAzZuC"
      },
      "source": [
        "X_train_idf_preprocess, X_test_idf_preprocess = convertation(tf_idf_vector, news_train.preprocess_data, news_test.preprocess_data)"
      ],
      "execution_count": null,
      "outputs": []
    },
    {
      "cell_type": "code",
      "metadata": {
        "id": "kk0pWby5zZ6S"
      },
      "source": [
        "X_train_idf_stemmed, X_test_idf_stemmed = convertation(tf_idf_vector, news_train.stemming_data, news_test.stemming_data)\n"
      ],
      "execution_count": null,
      "outputs": []
    },
    {
      "cell_type": "code",
      "metadata": {
        "id": "3Ruu5eGu42x9"
      },
      "source": [
        "# также передадим ngrams_range(1, 2) для того, чтобы учитывать пары слов в том числе\n",
        "# ngram range нужен чтобы учитывать несколько слов, например фразеологизмы. (it's raining cats and dogs - по отдельности смысла нет,\n",
        "# но если ngram_range = (1, 5), выделит полностью и мы поймем смысл)\n",
        "\n",
        "tf_idf_ngram_vector = TfidfVectorizer(ngram_range = (1, 2))\n",
        "X_train_idf_stemmed_gram, X_test_idf_stemmed_gram = convertation(tf_idf_ngram_vector, news_train.stemming_data, news_test.stemming_data)"
      ],
      "execution_count": null,
      "outputs": []
    },
    {
      "cell_type": "code",
      "metadata": {
        "colab": {
          "base_uri": "https://localhost:8080/"
        },
        "id": "XPsThAXX6PyM",
        "outputId": "a424ffee-0482-4463-c6bc-04f4346d82c0"
      },
      "source": [
        "X_train_idf_stemmed_gram.shape # очень сильно увеличился размер - до 930к"
      ],
      "execution_count": null,
      "outputs": [
        {
          "output_type": "execute_result",
          "data": {
            "text/plain": [
              "(11314, 934463)"
            ]
          },
          "metadata": {},
          "execution_count": 127
        }
      ]
    },
    {
      "cell_type": "markdown",
      "metadata": {
        "id": "2MQk1feOPGwm"
      },
      "source": [
        "### (2 балла) Обучите несколько моделей, посмотрите на метрики.\n",
        "Как модели точно возьмите LogisticRegression, KNN и константу, можете придумать еще какие-нибудь.\n",
        "\n",
        "Как метрики точно возьмите accuracy, разные усреднения precision, recall и f1."
      ]
    },
    {
      "cell_type": "markdown",
      "metadata": {
        "id": "Az4tp819DTCP"
      },
      "source": [
        "**LogReg & SVM (SVC)**"
      ]
    },
    {
      "cell_type": "code",
      "metadata": {
        "id": "oOnkMU5ODaG8"
      },
      "source": [
        "logreg = LogisticRegression(max_iter = 1500000)\n",
        "linearsvc = LinearSVC(dual = True, max_iter = 1500000)"
      ],
      "execution_count": null,
      "outputs": []
    },
    {
      "cell_type": "code",
      "metadata": {
        "colab": {
          "base_uri": "https://localhost:8080/"
        },
        "id": "DXNAi7GFH2-Z",
        "outputId": "a7767774-e6e6-4cab-932b-cad6b34efe71"
      },
      "source": [
        "X_train_BOG.shape"
      ],
      "execution_count": null,
      "outputs": [
        {
          "output_type": "execute_result",
          "data": {
            "text/plain": [
              "(11314, 130107)"
            ]
          },
          "metadata": {},
          "execution_count": 129
        }
      ]
    },
    {
      "cell_type": "code",
      "metadata": {
        "id": "YfzfjIQhPGwm",
        "colab": {
          "base_uri": "https://localhost:8080/"
        },
        "outputId": "d7acae12-adcc-40cf-8383-9b93b78f5cc1"
      },
      "source": [
        "# смотрим результат на bag of wards\n",
        "logreg.fit(X_train_BOG, news_train.target)\n",
        "linearsvc.fit(X_train_BOG, news_train.target)\n",
        "print('For Bag Of Words LogReg accuracy result is {}'.format(accuracy_score(logreg.predict(X_test_BOG), news_test.target)))\n",
        "print('For Bag Of Words LinearSVC accuracy result is {}'.format(accuracy_score(linearsvc.predict(X_test_BOG), news_test.target)))\n",
        "print('For Bag Of Words LogReg recall result is {}'.format(recall_score(logreg.predict(X_test_BOG), news_test.target, average = 'micro')))\n",
        "print('For Bag Of Words LinearSVC recall result is {}'.format(recall_score(linearsvc.predict(X_test_BOG), news_test.target, average = 'micro')))\n",
        "print('For Bag Of Words LogReg f1 result is {}'.format(f1_score(logreg.predict(X_test_BOG), news_test.target, average = 'micro')))\n",
        "print('For Bag Of Words LinearSVC f1 result is {}'.format(f1_score(linearsvc.predict(X_test_BOG), news_test.target, average = 'micro')))\n",
        "print('For Bag Of Words LogReg precision macro result is {}'.format(precision_score(logreg.predict(X_test_BOG), news_test.target, average = 'macro')))\n",
        "print('For Bag Of Words LogReg precision micro result is {}'.format(precision_score(logreg.predict(X_test_BOG), news_test.target, average = 'micro')))\n",
        "print('For Bag Of Words LinearSVC precision macro result is {}'.format(precision_score(linearsvc.predict(X_test_BOG), news_test.target, average = 'macro')))\n",
        "print('For Bag Of Words LinearSVC precision micro result is {}'.format(precision_score(linearsvc.predict(X_test_BOG), news_test.target, average = 'micro')))"
      ],
      "execution_count": null,
      "outputs": [
        {
          "output_type": "stream",
          "name": "stdout",
          "text": [
            "For Bag Of Words LogReg accuracy result is 0.789166224110462\n",
            "For Bag Of Words LinearSVC accuracy result is 0.7863781200212427\n",
            "For Bag Of Words LogReg recall result is 0.789166224110462\n",
            "For Bag Of Words LinearSVC recall result is 0.7863781200212427\n",
            "For Bag Of Words LogReg f1 result is 0.789166224110462\n",
            "For Bag Of Words LinearSVC f1 result is 0.7863781200212427\n",
            "For Bag Of Words LogReg precision macro result is 0.7822275726593119\n",
            "For Bag Of Words LogReg precision micro result is 0.789166224110462\n",
            "For Bag Of Words LinearSVC precision macro result is 0.7797136265767043\n",
            "For Bag Of Words LinearSVC precision micro result is 0.7863781200212427\n"
          ]
        }
      ]
    },
    {
      "cell_type": "code",
      "metadata": {
        "colab": {
          "base_uri": "https://localhost:8080/"
        },
        "id": "BEq8GI0rE8jd",
        "outputId": "ae14a56a-fb66-41e3-db37-cc22df30aecd"
      },
      "source": [
        "# смотрим результат на bad of words preprocessed (X_train_BOG_preprocessed)\n",
        "# тут обработанный текст (без бесмысленных слов)\n",
        "logreg.fit(X_train_BOG_preprocessed, news_train.target)\n",
        "linearsvc.fit(X_train_BOG_preprocessed, news_train.target)\n",
        "print('For Bag Of Words preprocessed LogReg accuracy result is {}'.format(accuracy_score(logreg.predict(X_test_BOG_preprocessed), news_test.target)))\n",
        "print('For Bag Of Words preprocessed LinearSVC accuracy result is {}'.format(accuracy_score(linearsvc.predict(X_test_BOG_preprocessed), news_test.target)))\n",
        "print('For Bag Of Words preprocessed LogReg recall result is {}'.format(recall_score(logreg.predict(X_test_BOG_preprocessed), news_test.target, average = 'micro')))\n",
        "print('For Bag Of Words preprocessed LinearSVC recall result is {}'.format(recall_score(linearsvc.predict(X_test_BOG_preprocessed), news_test.target, average = 'micro')))\n",
        "print('For Bag Of Words preprocessed LogReg f1 result is {}'.format(f1_score(logreg.predict(X_test_BOG_preprocessed), news_test.target, average = 'micro')))\n",
        "print('For Bag Of Words preprocessed LinearSVC f1 result is {}'.format(f1_score(linearsvc.predict(X_test_BOG_preprocessed), news_test.target, average = 'micro')))\n",
        "print('For Bag Of Words preprocessed LogReg precision macro result is {}'.format(precision_score(logreg.predict(X_test_BOG_preprocessed), news_test.target, average = 'macro')))\n",
        "print('For Bag Of Words preprocessed LogReg precision micro result is {}'.format(precision_score(logreg.predict(X_test_BOG_preprocessed), news_test.target, average = 'micro')))\n",
        "print('For Bag Of Words preprocessed LinearSVC precision macro result is {}'.format(precision_score(linearsvc.predict(X_test_BOG_preprocessed), news_test.target, average = 'macro')))\n",
        "print('For Bag Of Words preprocessed LinearSVC precision micro result is {}'.format(precision_score(linearsvc.predict(X_test_BOG_preprocessed), news_test.target, average = 'micro')))"
      ],
      "execution_count": null,
      "outputs": [
        {
          "output_type": "stream",
          "name": "stdout",
          "text": [
            "For Bag Of Words preprocessed LogReg accuracy result is 0.8013807753584705\n",
            "For Bag Of Words preprocessed LinearSVC accuracy result is 0.7936802973977695\n",
            "For Bag Of Words preprocessed LogReg recall result is 0.8013807753584705\n",
            "For Bag Of Words preprocessed LinearSVC recall result is 0.7936802973977695\n",
            "For Bag Of Words preprocessed LogReg f1 result is 0.8013807753584705\n",
            "For Bag Of Words preprocessed LinearSVC f1 result is 0.7936802973977695\n",
            "For Bag Of Words preprocessed LogReg precision macro result is 0.7940458695182331\n",
            "For Bag Of Words preprocessed LogReg precision micro result is 0.8013807753584705\n",
            "For Bag Of Words preprocessed LinearSVC precision macro result is 0.7866410543088085\n",
            "For Bag Of Words preprocessed LinearSVC precision micro result is 0.7936802973977695\n"
          ]
        }
      ]
    },
    {
      "cell_type": "code",
      "metadata": {
        "colab": {
          "base_uri": "https://localhost:8080/"
        },
        "id": "o3I7rHDxQpwQ",
        "outputId": "ea63287e-db85-47cd-880b-fca28463051f"
      },
      "source": [
        "# смотрим результат на bad of words stemming (X_train_BOG_stemmed)\n",
        "# тут текст после стемминга\n",
        "logreg.fit(X_train_BOG_stemmed, news_train.target)\n",
        "linearsvc.fit(X_train_BOG_stemmed, news_train.target)\n",
        "print('For Bag Of Words stemmed LogReg accuracy result is {}'.format(accuracy_score(logreg.predict(X_test_BOG_stemmed), news_test.target)))\n",
        "print('For Bag Of Words stemmed LinearSVC accuracy result is {}'.format(accuracy_score(linearsvc.predict(X_test_BOG_stemmed), news_test.target)))\n",
        "print('For Bag Of Words stemmed LogReg recall result is {}'.format(recall_score(logreg.predict(X_test_BOG_stemmed), news_test.target, average = 'micro')))\n",
        "print('For Bag Of Words stemmed LinearSVC recall result is {}'.format(recall_score(linearsvc.predict(X_test_BOG_stemmed), news_test.target, average = 'micro')))\n",
        "print('For Bag Of Words stemmed LogReg f1 result is {}'.format(f1_score(logreg.predict(X_test_BOG_stemmed), news_test.target, average = 'micro')))\n",
        "print('For Bag Of Words stemmed LinearSVC f1 result is {}'.format(f1_score(linearsvc.predict(X_test_BOG_stemmed), news_test.target, average = 'micro')))\n",
        "print('For Bag Of Words stemmed LogReg precision macro result is {}'.format(precision_score(logreg.predict(X_test_BOG_stemmed), news_test.target, average = 'macro')))\n",
        "print('For Bag Of Words stemmed LogReg precision micro result is {}'.format(precision_score(logreg.predict(X_test_BOG_stemmed), news_test.target, average = 'micro')))\n",
        "print('For Bag Of Words stemmed LinearSVC precision macro result is {}'.format(precision_score(linearsvc.predict(X_test_BOG_stemmed), news_test.target, average = 'macro')))\n",
        "print('For Bag Of Words stemmed LinearSVC precision micro result is {}'.format(precision_score(linearsvc.predict(X_test_BOG_stemmed), news_test.target, average = 'micro')))"
      ],
      "execution_count": null,
      "outputs": [
        {
          "output_type": "stream",
          "name": "stdout",
          "text": [
            "For Bag Of Words stemmed LogReg accuracy result is 0.7966011683483802\n",
            "For Bag Of Words stemmed LinearSVC accuracy result is 0.7818640467339352\n",
            "For Bag Of Words stemmed LogReg recall result is 0.7966011683483802\n",
            "For Bag Of Words stemmed LinearSVC recall result is 0.7818640467339352\n",
            "For Bag Of Words stemmed LogReg f1 result is 0.7966011683483802\n",
            "For Bag Of Words stemmed LinearSVC f1 result is 0.7818640467339352\n",
            "For Bag Of Words stemmed LogReg precision macro result is 0.788658234694479\n",
            "For Bag Of Words stemmed LogReg precision micro result is 0.7966011683483802\n",
            "For Bag Of Words stemmed LinearSVC precision macro result is 0.7745346549672314\n",
            "For Bag Of Words stemmed LinearSVC precision micro result is 0.7818640467339352\n"
          ]
        }
      ]
    },
    {
      "cell_type": "code",
      "metadata": {
        "colab": {
          "base_uri": "https://localhost:8080/"
        },
        "id": "i33NdReQNHfS",
        "outputId": "eb882a5d-64d7-4a9b-c11a-61e41289a9fc"
      },
      "source": [
        "# смотрим TF-IDF\n",
        "logreg.fit(X_train_idf, news_train.target)\n",
        "linearsvc.fit(X_train_idf, news_train.target)\n",
        "print('For TF-IDF LogReg accuracy result is {}'.format(accuracy_score(logreg.predict(X_test_idf), news_test.target)))\n",
        "print('For TF-IDF LinearSVC accuracy result is {}'.format(accuracy_score(linearsvc.predict(X_test_idf), news_test.target)))\n",
        "print('For TF-IDF LogReg recall result is {}'.format(recall_score(logreg.predict(X_test_idf), news_test.target, average = 'micro')))\n",
        "print('For TF-IDF LinearSVC recall result is {}'.format(recall_score(linearsvc.predict(X_test_idf), news_test.target, average = 'micro')))\n",
        "print('For TF-IDF LogReg f1 result is {}'.format(f1_score(logreg.predict(X_test_idf), news_test.target, average = 'micro')))\n",
        "print('For TF-IDF LinearSVC f1 result is {}'.format(f1_score(linearsvc.predict(X_test_idf), news_test.target, average = 'micro')))\n",
        "print('For TF-IDF LogReg precision macro result is {}'.format(precision_score(logreg.predict(X_test_idf), news_test.target, average = 'macro')))\n",
        "print('For TF-IDF LogReg precision micro result is {}'.format(precision_score(logreg.predict(X_test_idf), news_test.target, average = 'micro')))\n",
        "print('For TF-IDF LinearSVC precision macro result is {}'.format(precision_score(linearsvc.predict(X_test_idf), news_test.target, average = 'macro')))\n",
        "print('For TF-IDF LinearSVC precision micro result is {}'.format(precision_score(linearsvc.predict(X_test_idf), news_test.target, average = 'micro')))"
      ],
      "execution_count": null,
      "outputs": [
        {
          "output_type": "stream",
          "name": "stdout",
          "text": [
            "For TF-IDF LogReg accuracy result is 0.8274030801911842\n",
            "For TF-IDF LinearSVC accuracy result is 0.8531598513011153\n",
            "For TF-IDF LogReg recall result is 0.8274030801911842\n",
            "For TF-IDF LinearSVC recall result is 0.8531598513011153\n",
            "For TF-IDF LogReg f1 result is 0.8274030801911842\n",
            "For TF-IDF LinearSVC f1 result is 0.8531598513011153\n",
            "For TF-IDF LogReg precision macro result is 0.8180108420599697\n",
            "For TF-IDF LogReg precision micro result is 0.8274030801911842\n",
            "For TF-IDF LinearSVC precision macro result is 0.845836571817482\n",
            "For TF-IDF LinearSVC precision micro result is 0.8531598513011153\n"
          ]
        }
      ]
    },
    {
      "cell_type": "code",
      "metadata": {
        "colab": {
          "base_uri": "https://localhost:8080/"
        },
        "id": "J7fmmvtPQTRQ",
        "outputId": "bcff5bb8-050c-4e12-db74-33c9301988c0"
      },
      "source": [
        "# смотрим TF-IDF preprocess\n",
        "logreg.fit(X_train_idf_preprocess, news_train.target)\n",
        "linearsvc.fit(X_train_idf_preprocess, news_train.target)\n",
        "print('For TF-IDF preprocess LogReg accuracy result is {}'.format(accuracy_score(logreg.predict(X_test_idf_preprocess), news_test.target)))\n",
        "print('For TF-IDF preprocess LinearSVC accuracy result is {}'.format(accuracy_score(linearsvc.predict(X_test_idf_preprocess), news_test.target)))\n",
        "print('For TF-IDF preprocess LogReg recall result is {}'.format(recall_score(logreg.predict(X_test_idf_preprocess), news_test.target, average = 'micro')))\n",
        "print('For TF-IDF preprocess LinearSVC recall result is {}'.format(recall_score(linearsvc.predict(X_test_idf_preprocess), news_test.target, average = 'micro')))\n",
        "print('For TF-IDF preprocess LogReg f1 result is {}'.format(f1_score(logreg.predict(X_test_idf_preprocess), news_test.target, average = 'micro')))\n",
        "print('For TF-IDF preprocess LinearSVC f1 result is {}'.format(f1_score(linearsvc.predict(X_test_idf_preprocess), news_test.target, average = 'micro')))\n",
        "print('For TF-IDF preprocess LogReg precision macro result is {}'.format(precision_score(logreg.predict(X_test_idf_preprocess), news_test.target, average = 'macro')))\n",
        "print('For TF-IDF preprocess LogReg precision micro result is {}'.format(precision_score(logreg.predict(X_test_idf_preprocess), news_test.target, average = 'micro')))\n",
        "print('For TF-IDF preprocess LinearSVC precision macro result is {}'.format(precision_score(linearsvc.predict(X_test_idf_preprocess), news_test.target, average = 'macro')))\n",
        "print('For TF-IDF preprocess LinearSVC precision micro result is {}'.format(precision_score(linearsvc.predict(X_test_idf_preprocess), news_test.target, average = 'micro')))"
      ],
      "execution_count": null,
      "outputs": [
        {
          "output_type": "stream",
          "name": "stdout",
          "text": [
            "For TF-IDF preprocess LogReg accuracy result is 0.8323154540626659\n",
            "For TF-IDF preprocess LinearSVC accuracy result is 0.8509028146574615\n",
            "For TF-IDF preprocess LogReg recall result is 0.8323154540626659\n",
            "For TF-IDF preprocess LinearSVC recall result is 0.8509028146574615\n",
            "For TF-IDF preprocess LogReg f1 result is 0.8323154540626659\n",
            "For TF-IDF preprocess LinearSVC f1 result is 0.8509028146574615\n",
            "For TF-IDF preprocess LogReg precision macro result is 0.8228204178165945\n",
            "For TF-IDF preprocess LogReg precision micro result is 0.8323154540626659\n",
            "For TF-IDF preprocess LinearSVC precision macro result is 0.8436768516995932\n",
            "For TF-IDF preprocess LinearSVC precision micro result is 0.8509028146574615\n"
          ]
        }
      ]
    },
    {
      "cell_type": "code",
      "metadata": {
        "colab": {
          "base_uri": "https://localhost:8080/"
        },
        "id": "Cw9WP_pGohwE",
        "outputId": "4ed501e5-0b7f-432e-ae93-0569ceff2b38"
      },
      "source": [
        "# смотрим TF-IDF stemmed\n",
        "logreg.fit(X_train_idf_stemmed, news_train.target)\n",
        "linearsvc.fit(X_train_idf_stemmed, news_train.target)\n",
        "print('For TF-IDF stemmed LogReg accuracy result is {}'.format(accuracy_score(logreg.predict(X_test_idf_stemmed), news_test.target)))\n",
        "print('For TF-IDF stemmed LinearSVC accuracy result is {}'.format(accuracy_score(linearsvc.predict(X_test_idf_stemmed), news_test.target)))\n",
        "print('For TF-IDF stemmed LogReg recall result is {}'.format(recall_score(logreg.predict(X_test_idf_stemmed), news_test.target, average = 'micro')))\n",
        "print('For TF-IDF stemmed LinearSVC recall result is {}'.format(recall_score(linearsvc.predict(X_test_idf_stemmed), news_test.target, average = 'micro')))\n",
        "print('For TF-IDF stemmed LogReg f1 result is {}'.format(f1_score(logreg.predict(X_test_idf_stemmed), news_test.target, average = 'micro')))\n",
        "print('For TF-IDF stemmed LinearSVC f1 result is {}'.format(f1_score(linearsvc.predict(X_test_idf_stemmed), news_test.target, average = 'micro')))\n",
        "print('For TF-IDF stemmed LogReg precision macro result is {}'.format(precision_score(logreg.predict(X_test_idf_stemmed), news_test.target, average = 'macro')))\n",
        "print('For TF-IDF stemmed LogReg precision micro result is {}'.format(precision_score(logreg.predict(X_test_idf_stemmed), news_test.target, average = 'micro')))\n",
        "print('For TF-IDF stemmed LinearSVC precision macro result is {}'.format(precision_score(linearsvc.predict(X_test_idf_stemmed), news_test.target, average = 'macro')))\n",
        "print('For TF-IDF stemmed LinearSVC precision micro result is {}'.format(precision_score(linearsvc.predict(X_test_idf_stemmed), news_test.target, average = 'micro')))"
      ],
      "execution_count": null,
      "outputs": [
        {
          "output_type": "stream",
          "name": "stdout",
          "text": [
            "For TF-IDF stemmed LogReg accuracy result is 0.825942644715879\n",
            "For TF-IDF stemmed LinearSVC accuracy result is 0.8437334041423261\n",
            "For TF-IDF stemmed LogReg recall result is 0.825942644715879\n",
            "For TF-IDF stemmed LinearSVC recall result is 0.8437334041423261\n",
            "For TF-IDF stemmed LogReg f1 result is 0.8259426447158791\n",
            "For TF-IDF stemmed LinearSVC f1 result is 0.8437334041423261\n",
            "For TF-IDF stemmed LogReg precision macro result is 0.816309909647843\n",
            "For TF-IDF stemmed LogReg precision micro result is 0.825942644715879\n",
            "For TF-IDF stemmed LinearSVC precision macro result is 0.8364923493800825\n",
            "For TF-IDF stemmed LinearSVC precision micro result is 0.8437334041423261\n"
          ]
        }
      ]
    },
    {
      "cell_type": "code",
      "metadata": {
        "colab": {
          "base_uri": "https://localhost:8080/"
        },
        "id": "QNhOR-bBpKRT",
        "outputId": "0c6d88ce-8cb9-4157-ee8f-f3ce1962f4a4"
      },
      "source": [
        "# вишенка на торте: TF-IDF stemmed gram\n",
        "# тут мы помимо стемминга учитываем 1, 2, 3 слов, открываем новые смыслы и возможно\n",
        "# улучшаем качество\n",
        "\n",
        "logreg.fit(X_train_idf_stemmed_gram, news_train.target)\n",
        "linearsvc.fit(X_train_idf_stemmed_gram, news_train.target)\n",
        "print('For TF-IDF stemmed gram LogReg accuracy result is {}'.format(accuracy_score(logreg.predict(X_test_idf_stemmed_gram), news_test.target)))\n",
        "print('For TF-IDF stemmed gram LinearSVC accuracy result is {}'.format(accuracy_score(linearsvc.predict(X_test_idf_stemmed_gram), news_test.target)))\n",
        "print('For TF-IDF stemmed gram LogReg recall result is {}'.format(recall_score(logreg.predict(X_test_idf_stemmed_gram), news_test.target, average = 'micro')))\n",
        "print('For TF-IDF stemmed gram LinearSVC recall result is {}'.format(recall_score(linearsvc.predict(X_test_idf_stemmed_gram), news_test.target, average = 'micro')))\n",
        "print('For TF-IDF stemmed gram LogReg f1 result is {}'.format(f1_score(logreg.predict(X_test_idf_stemmed_gram), news_test.target, average = 'micro')))\n",
        "print('For TF-IDF stemmed gram LinearSVC f1 result is {}'.format(f1_score(linearsvc.predict(X_test_idf_stemmed_gram), news_test.target, average = 'micro')))\n",
        "print('For TF-IDF stemmed gram LogReg precision macro result is {}'.format(precision_score(logreg.predict(X_test_idf_stemmed_gram), news_test.target, average = 'macro')))\n",
        "print('For TF-IDF stemmed gram LogReg precision micro result is {}'.format(precision_score(logreg.predict(X_test_idf_stemmed_gram), news_test.target, average = 'micro')))\n",
        "print('For TF-IDF stemmed gram LinearSVC precision macro result is {}'.format(precision_score(linearsvc.predict(X_test_idf_stemmed_gram), news_test.target, average = 'macro')))\n",
        "print('For TF-IDF stemmed gram LinearSVC precision micro result is {}'.format(precision_score(linearsvc.predict(X_test_idf_stemmed_gram), news_test.target, average = 'micro')))"
      ],
      "execution_count": null,
      "outputs": [
        {
          "output_type": "stream",
          "name": "stdout",
          "text": [
            "For TF-IDF stemmed gram LogReg accuracy result is 0.8295273499734467\n",
            "For TF-IDF stemmed gram LinearSVC accuracy result is 0.8555496548061604\n",
            "For TF-IDF stemmed gram LogReg recall result is 0.8295273499734467\n",
            "For TF-IDF stemmed gram LinearSVC recall result is 0.8555496548061604\n",
            "For TF-IDF stemmed gram LogReg f1 result is 0.8295273499734467\n",
            "For TF-IDF stemmed gram LinearSVC f1 result is 0.8555496548061604\n",
            "For TF-IDF stemmed gram LogReg precision macro result is 0.8201057825414757\n",
            "For TF-IDF stemmed gram LogReg precision micro result is 0.8295273499734467\n",
            "For TF-IDF stemmed gram LinearSVC precision macro result is 0.8483399774322405\n",
            "For TF-IDF stemmed gram LinearSVC precision micro result is 0.8555496548061604\n"
          ]
        }
      ]
    },
    {
      "cell_type": "markdown",
      "metadata": {
        "id": "CxZax8fvtLwA"
      },
      "source": [
        "По итогу лучшая accuracy оказалась у LinearSVC с TF-IDF stemmed with gram = 2, а именно accuracy = 0.855\n"
      ]
    },
    {
      "cell_type": "markdown",
      "metadata": {
        "id": "8_UTL2eHuHtG"
      },
      "source": [
        "**KNN**"
      ]
    },
    {
      "cell_type": "code",
      "metadata": {
        "colab": {
          "base_uri": "https://localhost:8080/"
        },
        "id": "nchnVn8fuLpH",
        "outputId": "1ea5940a-3938-4c43-b74c-7e3c98d46495"
      },
      "source": [
        "# KNN\n",
        "knn = KNeighborsClassifier( )\n",
        "\n",
        "knn.fit(X_train_idf_stemmed_gram, news_train.target)\n",
        "print('For TF-IDF stemmed gram KNN accuracy result is {}'.format(accuracy_score(knn.predict(X_test_idf_stemmed_gram), news_test.target)))\n",
        "print('For TF-IDF stemmed gram KNN recall result is {}'.format(recall_score(knn.predict(X_test_idf_stemmed_gram), news_test.target, average = 'micro')))\n",
        "print('For TF-IDF stemmed gram KNN f1 result is {}'.format(f1_score(knn.predict(X_test_idf_stemmed_gram), news_test.target, average = 'micro')))\n",
        "print('For TF-IDF stemmed gram KNN precision macro result is {}'.format(precision_score(knn.predict(X_test_idf_stemmed_gram), news_test.target, average = 'macro')))\n",
        "print('For TF-IDF stemmed gram KNN precision micro result is {}'.format(precision_score(knn.predict(X_test_idf_stemmed_gram), news_test.target, average = 'micro')))\n",
        "print('KNN очень плохой что в принципе было сразу предсказуемо')"
      ],
      "execution_count": null,
      "outputs": [
        {
          "output_type": "stream",
          "name": "stdout",
          "text": [
            "For TF-IDF stemmed gram KNN accuracy result is 0.6484333510355815\n",
            "For TF-IDF stemmed gram KNN recall result is 0.6484333510355815\n",
            "For TF-IDF stemmed gram KNN f1 result is 0.6484333510355815\n",
            "For TF-IDF stemmed gram KNN precision macro result is 0.6472460556824164\n",
            "For TF-IDF stemmed gram KNN precision micro result is 0.6484333510355815\n",
            "KNN очень плохой что в принципе было сразу предсказуемо\n"
          ]
        }
      ]
    },
    {
      "cell_type": "markdown",
      "metadata": {
        "id": "h47jgtW-PGwn"
      },
      "source": [
        "### (2 балла) Выберите метрику, которую вы хотите максимизировать. Переберите гиперпараметры, постарайтесь найти модель, которая максимизирует эту метрику.\n",
        "\n",
        "Обоснуйте свой выбор. Напишите красивый отчет с графиками. Добились ли вы результатов, которых хотели добиться для этого датасета?"
      ]
    },
    {
      "cell_type": "markdown",
      "metadata": {
        "id": "8tnQZGYS7HZD"
      },
      "source": [
        "**Метрика и графики**\n",
        "\n",
        "Я выбрал accuracy, поднял её до 0.855 с 0.78. (Всё что тут требуют я сделал в прошлой части (преобразовывал тексты и смотрел метрики моделей), сюда уже переносить не буду) \n"
      ]
    },
    {
      "cell_type": "code",
      "metadata": {
        "colab": {
          "base_uri": "https://localhost:8080/",
          "height": 542
        },
        "id": "OtyF8ilJ7lcj",
        "outputId": "7973265b-d9eb-49b0-8c5f-e79099b9d7ab"
      },
      "source": [
        "import plotly.express as px\n",
        "\n",
        "scores_data = pd.DataFrame(data = {'KNN' : [0.648], 'LogReg' : [0.829], 'LinearSVC' : [0.855]})\n",
        "\n",
        "fig = px.bar(scores_data, x = scores_data.columns, y = scores_data.values.reshape(3))\n",
        "fig.update_yaxes(title_text = 'Max score')\n",
        "fig.update_xaxes(title_text = 'Model')\n",
        "fig.update_layout(title_text = 'Maximum accuracy score for each model')\n",
        "fig.show(renderer = 'colab')"
      ],
      "execution_count": null,
      "outputs": [
        {
          "output_type": "display_data",
          "data": {
            "text/html": [
              "<html>\n",
              "<head><meta charset=\"utf-8\" /></head>\n",
              "<body>\n",
              "    <div>\n",
              "            <script src=\"https://cdnjs.cloudflare.com/ajax/libs/mathjax/2.7.5/MathJax.js?config=TeX-AMS-MML_SVG\"></script><script type=\"text/javascript\">if (window.MathJax) {MathJax.Hub.Config({SVG: {font: \"STIX-Web\"}});}</script>\n",
              "                <script type=\"text/javascript\">window.PlotlyConfig = {MathJaxConfig: 'local'};</script>\n",
              "        <script src=\"https://cdn.plot.ly/plotly-latest.min.js\"></script>    \n",
              "            <div id=\"c2d4abf3-e12f-46b6-a059-ad26ec9cc288\" class=\"plotly-graph-div\" style=\"height:525px; width:100%;\"></div>\n",
              "            <script type=\"text/javascript\">\n",
              "                \n",
              "                    window.PLOTLYENV=window.PLOTLYENV || {};\n",
              "                    \n",
              "                if (document.getElementById(\"c2d4abf3-e12f-46b6-a059-ad26ec9cc288\")) {\n",
              "                    Plotly.newPlot(\n",
              "                        'c2d4abf3-e12f-46b6-a059-ad26ec9cc288',\n",
              "                        [{\"alignmentgroup\": \"True\", \"hoverlabel\": {\"namelength\": 0}, \"hovertemplate\": \"x=%{x}<br>y=%{y}\", \"legendgroup\": \"\", \"marker\": {\"color\": \"#636efa\"}, \"name\": \"\", \"offsetgroup\": \"\", \"orientation\": \"v\", \"showlegend\": false, \"textposition\": \"auto\", \"type\": \"bar\", \"x\": [\"KNN\", \"LogReg\", \"LinearSVC\"], \"xaxis\": \"x\", \"y\": [0.648, 0.829, 0.855], \"yaxis\": \"y\"}],\n",
              "                        {\"barmode\": \"relative\", \"legend\": {\"tracegroupgap\": 0}, \"margin\": {\"t\": 60}, \"template\": {\"data\": {\"bar\": [{\"error_x\": {\"color\": \"#2a3f5f\"}, \"error_y\": {\"color\": \"#2a3f5f\"}, \"marker\": {\"line\": {\"color\": \"#E5ECF6\", \"width\": 0.5}}, \"type\": \"bar\"}], \"barpolar\": [{\"marker\": {\"line\": {\"color\": \"#E5ECF6\", \"width\": 0.5}}, \"type\": \"barpolar\"}], \"carpet\": [{\"aaxis\": {\"endlinecolor\": \"#2a3f5f\", \"gridcolor\": \"white\", \"linecolor\": \"white\", \"minorgridcolor\": \"white\", \"startlinecolor\": \"#2a3f5f\"}, \"baxis\": {\"endlinecolor\": \"#2a3f5f\", \"gridcolor\": \"white\", \"linecolor\": \"white\", \"minorgridcolor\": \"white\", \"startlinecolor\": \"#2a3f5f\"}, \"type\": \"carpet\"}], \"choropleth\": [{\"colorbar\": {\"outlinewidth\": 0, \"ticks\": \"\"}, \"type\": \"choropleth\"}], \"contour\": [{\"colorbar\": {\"outlinewidth\": 0, \"ticks\": \"\"}, \"colorscale\": [[0.0, \"#0d0887\"], [0.1111111111111111, \"#46039f\"], [0.2222222222222222, \"#7201a8\"], [0.3333333333333333, \"#9c179e\"], [0.4444444444444444, \"#bd3786\"], [0.5555555555555556, \"#d8576b\"], [0.6666666666666666, \"#ed7953\"], [0.7777777777777778, \"#fb9f3a\"], [0.8888888888888888, \"#fdca26\"], [1.0, \"#f0f921\"]], \"type\": \"contour\"}], \"contourcarpet\": [{\"colorbar\": {\"outlinewidth\": 0, \"ticks\": \"\"}, \"type\": \"contourcarpet\"}], \"heatmap\": [{\"colorbar\": {\"outlinewidth\": 0, \"ticks\": \"\"}, \"colorscale\": [[0.0, \"#0d0887\"], [0.1111111111111111, \"#46039f\"], [0.2222222222222222, \"#7201a8\"], [0.3333333333333333, \"#9c179e\"], [0.4444444444444444, \"#bd3786\"], [0.5555555555555556, \"#d8576b\"], [0.6666666666666666, \"#ed7953\"], [0.7777777777777778, \"#fb9f3a\"], [0.8888888888888888, \"#fdca26\"], [1.0, \"#f0f921\"]], \"type\": \"heatmap\"}], \"heatmapgl\": [{\"colorbar\": {\"outlinewidth\": 0, \"ticks\": \"\"}, \"colorscale\": [[0.0, \"#0d0887\"], [0.1111111111111111, \"#46039f\"], [0.2222222222222222, \"#7201a8\"], [0.3333333333333333, \"#9c179e\"], [0.4444444444444444, \"#bd3786\"], [0.5555555555555556, \"#d8576b\"], [0.6666666666666666, \"#ed7953\"], [0.7777777777777778, \"#fb9f3a\"], [0.8888888888888888, \"#fdca26\"], [1.0, \"#f0f921\"]], \"type\": \"heatmapgl\"}], \"histogram\": [{\"marker\": {\"colorbar\": {\"outlinewidth\": 0, \"ticks\": \"\"}}, \"type\": \"histogram\"}], \"histogram2d\": [{\"colorbar\": {\"outlinewidth\": 0, \"ticks\": \"\"}, \"colorscale\": [[0.0, \"#0d0887\"], [0.1111111111111111, \"#46039f\"], [0.2222222222222222, \"#7201a8\"], [0.3333333333333333, \"#9c179e\"], [0.4444444444444444, \"#bd3786\"], [0.5555555555555556, \"#d8576b\"], [0.6666666666666666, \"#ed7953\"], [0.7777777777777778, \"#fb9f3a\"], [0.8888888888888888, \"#fdca26\"], [1.0, \"#f0f921\"]], \"type\": \"histogram2d\"}], \"histogram2dcontour\": [{\"colorbar\": {\"outlinewidth\": 0, \"ticks\": \"\"}, \"colorscale\": [[0.0, \"#0d0887\"], [0.1111111111111111, \"#46039f\"], [0.2222222222222222, \"#7201a8\"], [0.3333333333333333, \"#9c179e\"], [0.4444444444444444, \"#bd3786\"], [0.5555555555555556, \"#d8576b\"], [0.6666666666666666, \"#ed7953\"], [0.7777777777777778, \"#fb9f3a\"], [0.8888888888888888, \"#fdca26\"], [1.0, \"#f0f921\"]], \"type\": \"histogram2dcontour\"}], \"mesh3d\": [{\"colorbar\": {\"outlinewidth\": 0, \"ticks\": \"\"}, \"type\": \"mesh3d\"}], \"parcoords\": [{\"line\": {\"colorbar\": {\"outlinewidth\": 0, \"ticks\": \"\"}}, \"type\": \"parcoords\"}], \"pie\": [{\"automargin\": true, \"type\": \"pie\"}], \"scatter\": [{\"marker\": {\"colorbar\": {\"outlinewidth\": 0, \"ticks\": \"\"}}, \"type\": \"scatter\"}], \"scatter3d\": [{\"line\": {\"colorbar\": {\"outlinewidth\": 0, \"ticks\": \"\"}}, \"marker\": {\"colorbar\": {\"outlinewidth\": 0, \"ticks\": \"\"}}, \"type\": \"scatter3d\"}], \"scattercarpet\": [{\"marker\": {\"colorbar\": {\"outlinewidth\": 0, \"ticks\": \"\"}}, \"type\": \"scattercarpet\"}], \"scattergeo\": [{\"marker\": {\"colorbar\": {\"outlinewidth\": 0, \"ticks\": \"\"}}, \"type\": \"scattergeo\"}], \"scattergl\": [{\"marker\": {\"colorbar\": {\"outlinewidth\": 0, \"ticks\": \"\"}}, \"type\": \"scattergl\"}], \"scattermapbox\": [{\"marker\": {\"colorbar\": {\"outlinewidth\": 0, \"ticks\": \"\"}}, \"type\": \"scattermapbox\"}], \"scatterpolar\": [{\"marker\": {\"colorbar\": {\"outlinewidth\": 0, \"ticks\": \"\"}}, \"type\": \"scatterpolar\"}], \"scatterpolargl\": [{\"marker\": {\"colorbar\": {\"outlinewidth\": 0, \"ticks\": \"\"}}, \"type\": \"scatterpolargl\"}], \"scatterternary\": [{\"marker\": {\"colorbar\": {\"outlinewidth\": 0, \"ticks\": \"\"}}, \"type\": \"scatterternary\"}], \"surface\": [{\"colorbar\": {\"outlinewidth\": 0, \"ticks\": \"\"}, \"colorscale\": [[0.0, \"#0d0887\"], [0.1111111111111111, \"#46039f\"], [0.2222222222222222, \"#7201a8\"], [0.3333333333333333, \"#9c179e\"], [0.4444444444444444, \"#bd3786\"], [0.5555555555555556, \"#d8576b\"], [0.6666666666666666, \"#ed7953\"], [0.7777777777777778, \"#fb9f3a\"], [0.8888888888888888, \"#fdca26\"], [1.0, \"#f0f921\"]], \"type\": \"surface\"}], \"table\": [{\"cells\": {\"fill\": {\"color\": \"#EBF0F8\"}, \"line\": {\"color\": \"white\"}}, \"header\": {\"fill\": {\"color\": \"#C8D4E3\"}, \"line\": {\"color\": \"white\"}}, \"type\": \"table\"}]}, \"layout\": {\"annotationdefaults\": {\"arrowcolor\": \"#2a3f5f\", \"arrowhead\": 0, \"arrowwidth\": 1}, \"coloraxis\": {\"colorbar\": {\"outlinewidth\": 0, \"ticks\": \"\"}}, \"colorscale\": {\"diverging\": [[0, \"#8e0152\"], [0.1, \"#c51b7d\"], [0.2, \"#de77ae\"], [0.3, \"#f1b6da\"], [0.4, \"#fde0ef\"], [0.5, \"#f7f7f7\"], [0.6, \"#e6f5d0\"], [0.7, \"#b8e186\"], [0.8, \"#7fbc41\"], [0.9, \"#4d9221\"], [1, \"#276419\"]], \"sequential\": [[0.0, \"#0d0887\"], [0.1111111111111111, \"#46039f\"], [0.2222222222222222, \"#7201a8\"], [0.3333333333333333, \"#9c179e\"], [0.4444444444444444, \"#bd3786\"], [0.5555555555555556, \"#d8576b\"], [0.6666666666666666, \"#ed7953\"], [0.7777777777777778, \"#fb9f3a\"], [0.8888888888888888, \"#fdca26\"], [1.0, \"#f0f921\"]], \"sequentialminus\": [[0.0, \"#0d0887\"], [0.1111111111111111, \"#46039f\"], [0.2222222222222222, \"#7201a8\"], [0.3333333333333333, \"#9c179e\"], [0.4444444444444444, \"#bd3786\"], [0.5555555555555556, \"#d8576b\"], [0.6666666666666666, \"#ed7953\"], [0.7777777777777778, \"#fb9f3a\"], [0.8888888888888888, \"#fdca26\"], [1.0, \"#f0f921\"]]}, \"colorway\": [\"#636efa\", \"#EF553B\", \"#00cc96\", \"#ab63fa\", \"#FFA15A\", \"#19d3f3\", \"#FF6692\", \"#B6E880\", \"#FF97FF\", \"#FECB52\"], \"font\": {\"color\": \"#2a3f5f\"}, \"geo\": {\"bgcolor\": \"white\", \"lakecolor\": \"white\", \"landcolor\": \"#E5ECF6\", \"showlakes\": true, \"showland\": true, \"subunitcolor\": \"white\"}, \"hoverlabel\": {\"align\": \"left\"}, \"hovermode\": \"closest\", \"mapbox\": {\"style\": \"light\"}, \"paper_bgcolor\": \"white\", \"plot_bgcolor\": \"#E5ECF6\", \"polar\": {\"angularaxis\": {\"gridcolor\": \"white\", \"linecolor\": \"white\", \"ticks\": \"\"}, \"bgcolor\": \"#E5ECF6\", \"radialaxis\": {\"gridcolor\": \"white\", \"linecolor\": \"white\", \"ticks\": \"\"}}, \"scene\": {\"xaxis\": {\"backgroundcolor\": \"#E5ECF6\", \"gridcolor\": \"white\", \"gridwidth\": 2, \"linecolor\": \"white\", \"showbackground\": true, \"ticks\": \"\", \"zerolinecolor\": \"white\"}, \"yaxis\": {\"backgroundcolor\": \"#E5ECF6\", \"gridcolor\": \"white\", \"gridwidth\": 2, \"linecolor\": \"white\", \"showbackground\": true, \"ticks\": \"\", \"zerolinecolor\": \"white\"}, \"zaxis\": {\"backgroundcolor\": \"#E5ECF6\", \"gridcolor\": \"white\", \"gridwidth\": 2, \"linecolor\": \"white\", \"showbackground\": true, \"ticks\": \"\", \"zerolinecolor\": \"white\"}}, \"shapedefaults\": {\"line\": {\"color\": \"#2a3f5f\"}}, \"ternary\": {\"aaxis\": {\"gridcolor\": \"white\", \"linecolor\": \"white\", \"ticks\": \"\"}, \"baxis\": {\"gridcolor\": \"white\", \"linecolor\": \"white\", \"ticks\": \"\"}, \"bgcolor\": \"#E5ECF6\", \"caxis\": {\"gridcolor\": \"white\", \"linecolor\": \"white\", \"ticks\": \"\"}}, \"title\": {\"x\": 0.05}, \"xaxis\": {\"automargin\": true, \"gridcolor\": \"white\", \"linecolor\": \"white\", \"ticks\": \"\", \"title\": {\"standoff\": 15}, \"zerolinecolor\": \"white\", \"zerolinewidth\": 2}, \"yaxis\": {\"automargin\": true, \"gridcolor\": \"white\", \"linecolor\": \"white\", \"ticks\": \"\", \"title\": {\"standoff\": 15}, \"zerolinecolor\": \"white\", \"zerolinewidth\": 2}}}, \"title\": {\"text\": \"Maximum accuracy score for each model\"}, \"xaxis\": {\"anchor\": \"y\", \"domain\": [0.0, 1.0], \"title\": {\"text\": \"Model\"}}, \"yaxis\": {\"anchor\": \"x\", \"domain\": [0.0, 1.0], \"title\": {\"text\": \"Max score\"}}},\n",
              "                        {\"responsive\": true}\n",
              "                    ).then(function(){\n",
              "                            \n",
              "var gd = document.getElementById('c2d4abf3-e12f-46b6-a059-ad26ec9cc288');\n",
              "var x = new MutationObserver(function (mutations, observer) {{\n",
              "        var display = window.getComputedStyle(gd).display;\n",
              "        if (!display || display === 'none') {{\n",
              "            console.log([gd, 'removed!']);\n",
              "            Plotly.purge(gd);\n",
              "            observer.disconnect();\n",
              "        }}\n",
              "}});\n",
              "\n",
              "// Listen for the removal of the full notebook cells\n",
              "var notebookContainer = gd.closest('#notebook-container');\n",
              "if (notebookContainer) {{\n",
              "    x.observe(notebookContainer, {childList: true});\n",
              "}}\n",
              "\n",
              "// Listen for the clearing of the current output cell\n",
              "var outputEl = gd.closest('.output');\n",
              "if (outputEl) {{\n",
              "    x.observe(outputEl, {childList: true});\n",
              "}}\n",
              "\n",
              "                        })\n",
              "                };\n",
              "                \n",
              "            </script>\n",
              "        </div>\n",
              "</body>\n",
              "</html>"
            ]
          },
          "metadata": {}
        }
      ]
    },
    {
      "cell_type": "code",
      "metadata": {
        "colab": {
          "base_uri": "https://localhost:8080/",
          "height": 542
        },
        "id": "_6yhbWQ-SOwQ",
        "outputId": "dc692926-1c00-40df-e598-fe6736fef4fa"
      },
      "source": [
        "logreg_scores = [0.78, 0.8, 0.79, 0.827, 0.832, 0.825, 0.829]\n",
        "\n",
        "scored_data = pd.DataFrame(data = {'BOW' : [0.78], 'BOW preprocessed' : [0.8], 'BOW stemmed': [0.79], 'TF-IDF': [0.827], 'TF-IDF preprocessed': [0.832], 'TF-IDF stemmed': [0.825], 'TF-IDF stemmed ngram': [0.829]})\n",
        "fig = px.line(scored_data, x = scored_data.columns, y = scored_data.values.reshape(7), color_discrete_sequence=['black'])\n",
        "fig.update_xaxes(title_text = 'Text')\n",
        "fig.update_yaxes(title_text = 'LogReg score')\n",
        "fig.update_layout(title_text = 'LogReg score for different texts')\n",
        "fig.show(renderer = 'colab')"
      ],
      "execution_count": null,
      "outputs": [
        {
          "output_type": "display_data",
          "data": {
            "text/html": [
              "<html>\n",
              "<head><meta charset=\"utf-8\" /></head>\n",
              "<body>\n",
              "    <div>\n",
              "            <script src=\"https://cdnjs.cloudflare.com/ajax/libs/mathjax/2.7.5/MathJax.js?config=TeX-AMS-MML_SVG\"></script><script type=\"text/javascript\">if (window.MathJax) {MathJax.Hub.Config({SVG: {font: \"STIX-Web\"}});}</script>\n",
              "                <script type=\"text/javascript\">window.PlotlyConfig = {MathJaxConfig: 'local'};</script>\n",
              "        <script src=\"https://cdn.plot.ly/plotly-latest.min.js\"></script>    \n",
              "            <div id=\"18dfb037-ccfe-4ac8-b1bd-97480e083b74\" class=\"plotly-graph-div\" style=\"height:525px; width:100%;\"></div>\n",
              "            <script type=\"text/javascript\">\n",
              "                \n",
              "                    window.PLOTLYENV=window.PLOTLYENV || {};\n",
              "                    \n",
              "                if (document.getElementById(\"18dfb037-ccfe-4ac8-b1bd-97480e083b74\")) {\n",
              "                    Plotly.newPlot(\n",
              "                        '18dfb037-ccfe-4ac8-b1bd-97480e083b74',\n",
              "                        [{\"hoverlabel\": {\"namelength\": 0}, \"hovertemplate\": \"x=%{x}<br>y=%{y}\", \"legendgroup\": \"\", \"line\": {\"color\": \"black\", \"dash\": \"solid\"}, \"mode\": \"lines\", \"name\": \"\", \"showlegend\": false, \"type\": \"scatter\", \"x\": [\"BOW\", \"BOW preprocessed\", \"BOW stemmed\", \"TF-IDF\", \"TF-IDF preprocessed\", \"TF-IDF stemmed\", \"TF-IDF stemmed ngram\"], \"xaxis\": \"x\", \"y\": [0.78, 0.8, 0.79, 0.827, 0.832, 0.825, 0.829], \"yaxis\": \"y\"}],\n",
              "                        {\"legend\": {\"tracegroupgap\": 0}, \"margin\": {\"t\": 60}, \"template\": {\"data\": {\"bar\": [{\"error_x\": {\"color\": \"#2a3f5f\"}, \"error_y\": {\"color\": \"#2a3f5f\"}, \"marker\": {\"line\": {\"color\": \"#E5ECF6\", \"width\": 0.5}}, \"type\": \"bar\"}], \"barpolar\": [{\"marker\": {\"line\": {\"color\": \"#E5ECF6\", \"width\": 0.5}}, \"type\": \"barpolar\"}], \"carpet\": [{\"aaxis\": {\"endlinecolor\": \"#2a3f5f\", \"gridcolor\": \"white\", \"linecolor\": \"white\", \"minorgridcolor\": \"white\", \"startlinecolor\": \"#2a3f5f\"}, \"baxis\": {\"endlinecolor\": \"#2a3f5f\", \"gridcolor\": \"white\", \"linecolor\": \"white\", \"minorgridcolor\": \"white\", \"startlinecolor\": \"#2a3f5f\"}, \"type\": \"carpet\"}], \"choropleth\": [{\"colorbar\": {\"outlinewidth\": 0, \"ticks\": \"\"}, \"type\": \"choropleth\"}], \"contour\": [{\"colorbar\": {\"outlinewidth\": 0, \"ticks\": \"\"}, \"colorscale\": [[0.0, \"#0d0887\"], [0.1111111111111111, \"#46039f\"], [0.2222222222222222, \"#7201a8\"], [0.3333333333333333, \"#9c179e\"], [0.4444444444444444, \"#bd3786\"], [0.5555555555555556, \"#d8576b\"], [0.6666666666666666, \"#ed7953\"], [0.7777777777777778, \"#fb9f3a\"], [0.8888888888888888, \"#fdca26\"], [1.0, \"#f0f921\"]], \"type\": \"contour\"}], \"contourcarpet\": [{\"colorbar\": {\"outlinewidth\": 0, \"ticks\": \"\"}, \"type\": \"contourcarpet\"}], \"heatmap\": [{\"colorbar\": {\"outlinewidth\": 0, \"ticks\": \"\"}, \"colorscale\": [[0.0, \"#0d0887\"], [0.1111111111111111, \"#46039f\"], [0.2222222222222222, \"#7201a8\"], [0.3333333333333333, \"#9c179e\"], [0.4444444444444444, \"#bd3786\"], [0.5555555555555556, \"#d8576b\"], [0.6666666666666666, \"#ed7953\"], [0.7777777777777778, \"#fb9f3a\"], [0.8888888888888888, \"#fdca26\"], [1.0, \"#f0f921\"]], \"type\": \"heatmap\"}], \"heatmapgl\": [{\"colorbar\": {\"outlinewidth\": 0, \"ticks\": \"\"}, \"colorscale\": [[0.0, \"#0d0887\"], [0.1111111111111111, \"#46039f\"], [0.2222222222222222, \"#7201a8\"], [0.3333333333333333, \"#9c179e\"], [0.4444444444444444, \"#bd3786\"], [0.5555555555555556, \"#d8576b\"], [0.6666666666666666, \"#ed7953\"], [0.7777777777777778, \"#fb9f3a\"], [0.8888888888888888, \"#fdca26\"], [1.0, \"#f0f921\"]], \"type\": \"heatmapgl\"}], \"histogram\": [{\"marker\": {\"colorbar\": {\"outlinewidth\": 0, \"ticks\": \"\"}}, \"type\": \"histogram\"}], \"histogram2d\": [{\"colorbar\": {\"outlinewidth\": 0, \"ticks\": \"\"}, \"colorscale\": [[0.0, \"#0d0887\"], [0.1111111111111111, \"#46039f\"], [0.2222222222222222, \"#7201a8\"], [0.3333333333333333, \"#9c179e\"], [0.4444444444444444, \"#bd3786\"], [0.5555555555555556, \"#d8576b\"], [0.6666666666666666, \"#ed7953\"], [0.7777777777777778, \"#fb9f3a\"], [0.8888888888888888, \"#fdca26\"], [1.0, \"#f0f921\"]], \"type\": \"histogram2d\"}], \"histogram2dcontour\": [{\"colorbar\": {\"outlinewidth\": 0, \"ticks\": \"\"}, \"colorscale\": [[0.0, \"#0d0887\"], [0.1111111111111111, \"#46039f\"], [0.2222222222222222, \"#7201a8\"], [0.3333333333333333, \"#9c179e\"], [0.4444444444444444, \"#bd3786\"], [0.5555555555555556, \"#d8576b\"], [0.6666666666666666, \"#ed7953\"], [0.7777777777777778, \"#fb9f3a\"], [0.8888888888888888, \"#fdca26\"], [1.0, \"#f0f921\"]], \"type\": \"histogram2dcontour\"}], \"mesh3d\": [{\"colorbar\": {\"outlinewidth\": 0, \"ticks\": \"\"}, \"type\": \"mesh3d\"}], \"parcoords\": [{\"line\": {\"colorbar\": {\"outlinewidth\": 0, \"ticks\": \"\"}}, \"type\": \"parcoords\"}], \"pie\": [{\"automargin\": true, \"type\": \"pie\"}], \"scatter\": [{\"marker\": {\"colorbar\": {\"outlinewidth\": 0, \"ticks\": \"\"}}, \"type\": \"scatter\"}], \"scatter3d\": [{\"line\": {\"colorbar\": {\"outlinewidth\": 0, \"ticks\": \"\"}}, \"marker\": {\"colorbar\": {\"outlinewidth\": 0, \"ticks\": \"\"}}, \"type\": \"scatter3d\"}], \"scattercarpet\": [{\"marker\": {\"colorbar\": {\"outlinewidth\": 0, \"ticks\": \"\"}}, \"type\": \"scattercarpet\"}], \"scattergeo\": [{\"marker\": {\"colorbar\": {\"outlinewidth\": 0, \"ticks\": \"\"}}, \"type\": \"scattergeo\"}], \"scattergl\": [{\"marker\": {\"colorbar\": {\"outlinewidth\": 0, \"ticks\": \"\"}}, \"type\": \"scattergl\"}], \"scattermapbox\": [{\"marker\": {\"colorbar\": {\"outlinewidth\": 0, \"ticks\": \"\"}}, \"type\": \"scattermapbox\"}], \"scatterpolar\": [{\"marker\": {\"colorbar\": {\"outlinewidth\": 0, \"ticks\": \"\"}}, \"type\": \"scatterpolar\"}], \"scatterpolargl\": [{\"marker\": {\"colorbar\": {\"outlinewidth\": 0, \"ticks\": \"\"}}, \"type\": \"scatterpolargl\"}], \"scatterternary\": [{\"marker\": {\"colorbar\": {\"outlinewidth\": 0, \"ticks\": \"\"}}, \"type\": \"scatterternary\"}], \"surface\": [{\"colorbar\": {\"outlinewidth\": 0, \"ticks\": \"\"}, \"colorscale\": [[0.0, \"#0d0887\"], [0.1111111111111111, \"#46039f\"], [0.2222222222222222, \"#7201a8\"], [0.3333333333333333, \"#9c179e\"], [0.4444444444444444, \"#bd3786\"], [0.5555555555555556, \"#d8576b\"], [0.6666666666666666, \"#ed7953\"], [0.7777777777777778, \"#fb9f3a\"], [0.8888888888888888, \"#fdca26\"], [1.0, \"#f0f921\"]], \"type\": \"surface\"}], \"table\": [{\"cells\": {\"fill\": {\"color\": \"#EBF0F8\"}, \"line\": {\"color\": \"white\"}}, \"header\": {\"fill\": {\"color\": \"#C8D4E3\"}, \"line\": {\"color\": \"white\"}}, \"type\": \"table\"}]}, \"layout\": {\"annotationdefaults\": {\"arrowcolor\": \"#2a3f5f\", \"arrowhead\": 0, \"arrowwidth\": 1}, \"coloraxis\": {\"colorbar\": {\"outlinewidth\": 0, \"ticks\": \"\"}}, \"colorscale\": {\"diverging\": [[0, \"#8e0152\"], [0.1, \"#c51b7d\"], [0.2, \"#de77ae\"], [0.3, \"#f1b6da\"], [0.4, \"#fde0ef\"], [0.5, \"#f7f7f7\"], [0.6, \"#e6f5d0\"], [0.7, \"#b8e186\"], [0.8, \"#7fbc41\"], [0.9, \"#4d9221\"], [1, \"#276419\"]], \"sequential\": [[0.0, \"#0d0887\"], [0.1111111111111111, \"#46039f\"], [0.2222222222222222, \"#7201a8\"], [0.3333333333333333, \"#9c179e\"], [0.4444444444444444, \"#bd3786\"], [0.5555555555555556, \"#d8576b\"], [0.6666666666666666, \"#ed7953\"], [0.7777777777777778, \"#fb9f3a\"], [0.8888888888888888, \"#fdca26\"], [1.0, \"#f0f921\"]], \"sequentialminus\": [[0.0, \"#0d0887\"], [0.1111111111111111, \"#46039f\"], [0.2222222222222222, \"#7201a8\"], [0.3333333333333333, \"#9c179e\"], [0.4444444444444444, \"#bd3786\"], [0.5555555555555556, \"#d8576b\"], [0.6666666666666666, \"#ed7953\"], [0.7777777777777778, \"#fb9f3a\"], [0.8888888888888888, \"#fdca26\"], [1.0, \"#f0f921\"]]}, \"colorway\": [\"#636efa\", \"#EF553B\", \"#00cc96\", \"#ab63fa\", \"#FFA15A\", \"#19d3f3\", \"#FF6692\", \"#B6E880\", \"#FF97FF\", \"#FECB52\"], \"font\": {\"color\": \"#2a3f5f\"}, \"geo\": {\"bgcolor\": \"white\", \"lakecolor\": \"white\", \"landcolor\": \"#E5ECF6\", \"showlakes\": true, \"showland\": true, \"subunitcolor\": \"white\"}, \"hoverlabel\": {\"align\": \"left\"}, \"hovermode\": \"closest\", \"mapbox\": {\"style\": \"light\"}, \"paper_bgcolor\": \"white\", \"plot_bgcolor\": \"#E5ECF6\", \"polar\": {\"angularaxis\": {\"gridcolor\": \"white\", \"linecolor\": \"white\", \"ticks\": \"\"}, \"bgcolor\": \"#E5ECF6\", \"radialaxis\": {\"gridcolor\": \"white\", \"linecolor\": \"white\", \"ticks\": \"\"}}, \"scene\": {\"xaxis\": {\"backgroundcolor\": \"#E5ECF6\", \"gridcolor\": \"white\", \"gridwidth\": 2, \"linecolor\": \"white\", \"showbackground\": true, \"ticks\": \"\", \"zerolinecolor\": \"white\"}, \"yaxis\": {\"backgroundcolor\": \"#E5ECF6\", \"gridcolor\": \"white\", \"gridwidth\": 2, \"linecolor\": \"white\", \"showbackground\": true, \"ticks\": \"\", \"zerolinecolor\": \"white\"}, \"zaxis\": {\"backgroundcolor\": \"#E5ECF6\", \"gridcolor\": \"white\", \"gridwidth\": 2, \"linecolor\": \"white\", \"showbackground\": true, \"ticks\": \"\", \"zerolinecolor\": \"white\"}}, \"shapedefaults\": {\"line\": {\"color\": \"#2a3f5f\"}}, \"ternary\": {\"aaxis\": {\"gridcolor\": \"white\", \"linecolor\": \"white\", \"ticks\": \"\"}, \"baxis\": {\"gridcolor\": \"white\", \"linecolor\": \"white\", \"ticks\": \"\"}, \"bgcolor\": \"#E5ECF6\", \"caxis\": {\"gridcolor\": \"white\", \"linecolor\": \"white\", \"ticks\": \"\"}}, \"title\": {\"x\": 0.05}, \"xaxis\": {\"automargin\": true, \"gridcolor\": \"white\", \"linecolor\": \"white\", \"ticks\": \"\", \"title\": {\"standoff\": 15}, \"zerolinecolor\": \"white\", \"zerolinewidth\": 2}, \"yaxis\": {\"automargin\": true, \"gridcolor\": \"white\", \"linecolor\": \"white\", \"ticks\": \"\", \"title\": {\"standoff\": 15}, \"zerolinecolor\": \"white\", \"zerolinewidth\": 2}}}, \"title\": {\"text\": \"LogReg score for different texts\"}, \"xaxis\": {\"anchor\": \"y\", \"domain\": [0.0, 1.0], \"title\": {\"text\": \"Text\"}}, \"yaxis\": {\"anchor\": \"x\", \"domain\": [0.0, 1.0], \"title\": {\"text\": \"LogReg score\"}}},\n",
              "                        {\"responsive\": true}\n",
              "                    ).then(function(){\n",
              "                            \n",
              "var gd = document.getElementById('18dfb037-ccfe-4ac8-b1bd-97480e083b74');\n",
              "var x = new MutationObserver(function (mutations, observer) {{\n",
              "        var display = window.getComputedStyle(gd).display;\n",
              "        if (!display || display === 'none') {{\n",
              "            console.log([gd, 'removed!']);\n",
              "            Plotly.purge(gd);\n",
              "            observer.disconnect();\n",
              "        }}\n",
              "}});\n",
              "\n",
              "// Listen for the removal of the full notebook cells\n",
              "var notebookContainer = gd.closest('#notebook-container');\n",
              "if (notebookContainer) {{\n",
              "    x.observe(notebookContainer, {childList: true});\n",
              "}}\n",
              "\n",
              "// Listen for the clearing of the current output cell\n",
              "var outputEl = gd.closest('.output');\n",
              "if (outputEl) {{\n",
              "    x.observe(outputEl, {childList: true});\n",
              "}}\n",
              "\n",
              "                        })\n",
              "                };\n",
              "                \n",
              "            </script>\n",
              "        </div>\n",
              "</body>\n",
              "</html>"
            ]
          },
          "metadata": {}
        }
      ]
    },
    {
      "cell_type": "code",
      "metadata": {
        "colab": {
          "base_uri": "https://localhost:8080/",
          "height": 542
        },
        "id": "qggj6_mnUrm5",
        "outputId": "e4bb302c-5d7a-483a-a6c1-727147b3667b"
      },
      "source": [
        "logreg_scores = [0.786, 0.793, 0.781, 0.853, 0.850, 0.843, 0.855]\n",
        "\n",
        "scored_data = pd.DataFrame(data = {'BOW' : [0.786], 'BOW preprocessed' : [0.793], 'BOW stemmed': [0.781], 'TF-IDF': [0.853], 'TF-IDF preprocessed': [0.850], 'TF-IDF stemmed': [0.843], 'TF-IDF stemmed ngram': [0.855]})\n",
        "fig = px.line(scored_data, x = scored_data.columns, y = scored_data.values.reshape(7), color_discrete_sequence=['darkgoldenrod'])\n",
        "fig.update_xaxes(title_text = 'Text')\n",
        "fig.update_yaxes(title_text = 'LinearSVC score')\n",
        "fig.update_layout(title_text = 'LinearSVC score for different texts')\n",
        "fig.show(renderer = 'colab')"
      ],
      "execution_count": null,
      "outputs": [
        {
          "output_type": "display_data",
          "data": {
            "text/html": [
              "<html>\n",
              "<head><meta charset=\"utf-8\" /></head>\n",
              "<body>\n",
              "    <div>\n",
              "            <script src=\"https://cdnjs.cloudflare.com/ajax/libs/mathjax/2.7.5/MathJax.js?config=TeX-AMS-MML_SVG\"></script><script type=\"text/javascript\">if (window.MathJax) {MathJax.Hub.Config({SVG: {font: \"STIX-Web\"}});}</script>\n",
              "                <script type=\"text/javascript\">window.PlotlyConfig = {MathJaxConfig: 'local'};</script>\n",
              "        <script src=\"https://cdn.plot.ly/plotly-latest.min.js\"></script>    \n",
              "            <div id=\"f4d5218e-0f88-4e84-8e45-60d70e49b7fc\" class=\"plotly-graph-div\" style=\"height:525px; width:100%;\"></div>\n",
              "            <script type=\"text/javascript\">\n",
              "                \n",
              "                    window.PLOTLYENV=window.PLOTLYENV || {};\n",
              "                    \n",
              "                if (document.getElementById(\"f4d5218e-0f88-4e84-8e45-60d70e49b7fc\")) {\n",
              "                    Plotly.newPlot(\n",
              "                        'f4d5218e-0f88-4e84-8e45-60d70e49b7fc',\n",
              "                        [{\"hoverlabel\": {\"namelength\": 0}, \"hovertemplate\": \"x=%{x}<br>y=%{y}\", \"legendgroup\": \"\", \"line\": {\"color\": \"darkgoldenrod\", \"dash\": \"solid\"}, \"mode\": \"lines\", \"name\": \"\", \"showlegend\": false, \"type\": \"scatter\", \"x\": [\"BOW\", \"BOW preprocessed\", \"BOW stemmed\", \"TF-IDF\", \"TF-IDF preprocessed\", \"TF-IDF stemmed\", \"TF-IDF stemmed ngram\"], \"xaxis\": \"x\", \"y\": [0.786, 0.793, 0.781, 0.853, 0.85, 0.843, 0.855], \"yaxis\": \"y\"}],\n",
              "                        {\"legend\": {\"tracegroupgap\": 0}, \"margin\": {\"t\": 60}, \"template\": {\"data\": {\"bar\": [{\"error_x\": {\"color\": \"#2a3f5f\"}, \"error_y\": {\"color\": \"#2a3f5f\"}, \"marker\": {\"line\": {\"color\": \"#E5ECF6\", \"width\": 0.5}}, \"type\": \"bar\"}], \"barpolar\": [{\"marker\": {\"line\": {\"color\": \"#E5ECF6\", \"width\": 0.5}}, \"type\": \"barpolar\"}], \"carpet\": [{\"aaxis\": {\"endlinecolor\": \"#2a3f5f\", \"gridcolor\": \"white\", \"linecolor\": \"white\", \"minorgridcolor\": \"white\", \"startlinecolor\": \"#2a3f5f\"}, \"baxis\": {\"endlinecolor\": \"#2a3f5f\", \"gridcolor\": \"white\", \"linecolor\": \"white\", \"minorgridcolor\": \"white\", \"startlinecolor\": \"#2a3f5f\"}, \"type\": \"carpet\"}], \"choropleth\": [{\"colorbar\": {\"outlinewidth\": 0, \"ticks\": \"\"}, \"type\": \"choropleth\"}], \"contour\": [{\"colorbar\": {\"outlinewidth\": 0, \"ticks\": \"\"}, \"colorscale\": [[0.0, \"#0d0887\"], [0.1111111111111111, \"#46039f\"], [0.2222222222222222, \"#7201a8\"], [0.3333333333333333, \"#9c179e\"], [0.4444444444444444, \"#bd3786\"], [0.5555555555555556, \"#d8576b\"], [0.6666666666666666, \"#ed7953\"], [0.7777777777777778, \"#fb9f3a\"], [0.8888888888888888, \"#fdca26\"], [1.0, \"#f0f921\"]], \"type\": \"contour\"}], \"contourcarpet\": [{\"colorbar\": {\"outlinewidth\": 0, \"ticks\": \"\"}, \"type\": \"contourcarpet\"}], \"heatmap\": [{\"colorbar\": {\"outlinewidth\": 0, \"ticks\": \"\"}, \"colorscale\": [[0.0, \"#0d0887\"], [0.1111111111111111, \"#46039f\"], [0.2222222222222222, \"#7201a8\"], [0.3333333333333333, \"#9c179e\"], [0.4444444444444444, \"#bd3786\"], [0.5555555555555556, \"#d8576b\"], [0.6666666666666666, \"#ed7953\"], [0.7777777777777778, \"#fb9f3a\"], [0.8888888888888888, \"#fdca26\"], [1.0, \"#f0f921\"]], \"type\": \"heatmap\"}], \"heatmapgl\": [{\"colorbar\": {\"outlinewidth\": 0, \"ticks\": \"\"}, \"colorscale\": [[0.0, \"#0d0887\"], [0.1111111111111111, \"#46039f\"], [0.2222222222222222, \"#7201a8\"], [0.3333333333333333, \"#9c179e\"], [0.4444444444444444, \"#bd3786\"], [0.5555555555555556, \"#d8576b\"], [0.6666666666666666, \"#ed7953\"], [0.7777777777777778, \"#fb9f3a\"], [0.8888888888888888, \"#fdca26\"], [1.0, \"#f0f921\"]], \"type\": \"heatmapgl\"}], \"histogram\": [{\"marker\": {\"colorbar\": {\"outlinewidth\": 0, \"ticks\": \"\"}}, \"type\": \"histogram\"}], \"histogram2d\": [{\"colorbar\": {\"outlinewidth\": 0, \"ticks\": \"\"}, \"colorscale\": [[0.0, \"#0d0887\"], [0.1111111111111111, \"#46039f\"], [0.2222222222222222, \"#7201a8\"], [0.3333333333333333, \"#9c179e\"], [0.4444444444444444, \"#bd3786\"], [0.5555555555555556, \"#d8576b\"], [0.6666666666666666, \"#ed7953\"], [0.7777777777777778, \"#fb9f3a\"], [0.8888888888888888, \"#fdca26\"], [1.0, \"#f0f921\"]], \"type\": \"histogram2d\"}], \"histogram2dcontour\": [{\"colorbar\": {\"outlinewidth\": 0, \"ticks\": \"\"}, \"colorscale\": [[0.0, \"#0d0887\"], [0.1111111111111111, \"#46039f\"], [0.2222222222222222, \"#7201a8\"], [0.3333333333333333, \"#9c179e\"], [0.4444444444444444, \"#bd3786\"], [0.5555555555555556, \"#d8576b\"], [0.6666666666666666, \"#ed7953\"], [0.7777777777777778, \"#fb9f3a\"], [0.8888888888888888, \"#fdca26\"], [1.0, \"#f0f921\"]], \"type\": \"histogram2dcontour\"}], \"mesh3d\": [{\"colorbar\": {\"outlinewidth\": 0, \"ticks\": \"\"}, \"type\": \"mesh3d\"}], \"parcoords\": [{\"line\": {\"colorbar\": {\"outlinewidth\": 0, \"ticks\": \"\"}}, \"type\": \"parcoords\"}], \"pie\": [{\"automargin\": true, \"type\": \"pie\"}], \"scatter\": [{\"marker\": {\"colorbar\": {\"outlinewidth\": 0, \"ticks\": \"\"}}, \"type\": \"scatter\"}], \"scatter3d\": [{\"line\": {\"colorbar\": {\"outlinewidth\": 0, \"ticks\": \"\"}}, \"marker\": {\"colorbar\": {\"outlinewidth\": 0, \"ticks\": \"\"}}, \"type\": \"scatter3d\"}], \"scattercarpet\": [{\"marker\": {\"colorbar\": {\"outlinewidth\": 0, \"ticks\": \"\"}}, \"type\": \"scattercarpet\"}], \"scattergeo\": [{\"marker\": {\"colorbar\": {\"outlinewidth\": 0, \"ticks\": \"\"}}, \"type\": \"scattergeo\"}], \"scattergl\": [{\"marker\": {\"colorbar\": {\"outlinewidth\": 0, \"ticks\": \"\"}}, \"type\": \"scattergl\"}], \"scattermapbox\": [{\"marker\": {\"colorbar\": {\"outlinewidth\": 0, \"ticks\": \"\"}}, \"type\": \"scattermapbox\"}], \"scatterpolar\": [{\"marker\": {\"colorbar\": {\"outlinewidth\": 0, \"ticks\": \"\"}}, \"type\": \"scatterpolar\"}], \"scatterpolargl\": [{\"marker\": {\"colorbar\": {\"outlinewidth\": 0, \"ticks\": \"\"}}, \"type\": \"scatterpolargl\"}], \"scatterternary\": [{\"marker\": {\"colorbar\": {\"outlinewidth\": 0, \"ticks\": \"\"}}, \"type\": \"scatterternary\"}], \"surface\": [{\"colorbar\": {\"outlinewidth\": 0, \"ticks\": \"\"}, \"colorscale\": [[0.0, \"#0d0887\"], [0.1111111111111111, \"#46039f\"], [0.2222222222222222, \"#7201a8\"], [0.3333333333333333, \"#9c179e\"], [0.4444444444444444, \"#bd3786\"], [0.5555555555555556, \"#d8576b\"], [0.6666666666666666, \"#ed7953\"], [0.7777777777777778, \"#fb9f3a\"], [0.8888888888888888, \"#fdca26\"], [1.0, \"#f0f921\"]], \"type\": \"surface\"}], \"table\": [{\"cells\": {\"fill\": {\"color\": \"#EBF0F8\"}, \"line\": {\"color\": \"white\"}}, \"header\": {\"fill\": {\"color\": \"#C8D4E3\"}, \"line\": {\"color\": \"white\"}}, \"type\": \"table\"}]}, \"layout\": {\"annotationdefaults\": {\"arrowcolor\": \"#2a3f5f\", \"arrowhead\": 0, \"arrowwidth\": 1}, \"coloraxis\": {\"colorbar\": {\"outlinewidth\": 0, \"ticks\": \"\"}}, \"colorscale\": {\"diverging\": [[0, \"#8e0152\"], [0.1, \"#c51b7d\"], [0.2, \"#de77ae\"], [0.3, \"#f1b6da\"], [0.4, \"#fde0ef\"], [0.5, \"#f7f7f7\"], [0.6, \"#e6f5d0\"], [0.7, \"#b8e186\"], [0.8, \"#7fbc41\"], [0.9, \"#4d9221\"], [1, \"#276419\"]], \"sequential\": [[0.0, \"#0d0887\"], [0.1111111111111111, \"#46039f\"], [0.2222222222222222, \"#7201a8\"], [0.3333333333333333, \"#9c179e\"], [0.4444444444444444, \"#bd3786\"], [0.5555555555555556, \"#d8576b\"], [0.6666666666666666, \"#ed7953\"], [0.7777777777777778, \"#fb9f3a\"], [0.8888888888888888, \"#fdca26\"], [1.0, \"#f0f921\"]], \"sequentialminus\": [[0.0, \"#0d0887\"], [0.1111111111111111, \"#46039f\"], [0.2222222222222222, \"#7201a8\"], [0.3333333333333333, \"#9c179e\"], [0.4444444444444444, \"#bd3786\"], [0.5555555555555556, \"#d8576b\"], [0.6666666666666666, \"#ed7953\"], [0.7777777777777778, \"#fb9f3a\"], [0.8888888888888888, \"#fdca26\"], [1.0, \"#f0f921\"]]}, \"colorway\": [\"#636efa\", \"#EF553B\", \"#00cc96\", \"#ab63fa\", \"#FFA15A\", \"#19d3f3\", \"#FF6692\", \"#B6E880\", \"#FF97FF\", \"#FECB52\"], \"font\": {\"color\": \"#2a3f5f\"}, \"geo\": {\"bgcolor\": \"white\", \"lakecolor\": \"white\", \"landcolor\": \"#E5ECF6\", \"showlakes\": true, \"showland\": true, \"subunitcolor\": \"white\"}, \"hoverlabel\": {\"align\": \"left\"}, \"hovermode\": \"closest\", \"mapbox\": {\"style\": \"light\"}, \"paper_bgcolor\": \"white\", \"plot_bgcolor\": \"#E5ECF6\", \"polar\": {\"angularaxis\": {\"gridcolor\": \"white\", \"linecolor\": \"white\", \"ticks\": \"\"}, \"bgcolor\": \"#E5ECF6\", \"radialaxis\": {\"gridcolor\": \"white\", \"linecolor\": \"white\", \"ticks\": \"\"}}, \"scene\": {\"xaxis\": {\"backgroundcolor\": \"#E5ECF6\", \"gridcolor\": \"white\", \"gridwidth\": 2, \"linecolor\": \"white\", \"showbackground\": true, \"ticks\": \"\", \"zerolinecolor\": \"white\"}, \"yaxis\": {\"backgroundcolor\": \"#E5ECF6\", \"gridcolor\": \"white\", \"gridwidth\": 2, \"linecolor\": \"white\", \"showbackground\": true, \"ticks\": \"\", \"zerolinecolor\": \"white\"}, \"zaxis\": {\"backgroundcolor\": \"#E5ECF6\", \"gridcolor\": \"white\", \"gridwidth\": 2, \"linecolor\": \"white\", \"showbackground\": true, \"ticks\": \"\", \"zerolinecolor\": \"white\"}}, \"shapedefaults\": {\"line\": {\"color\": \"#2a3f5f\"}}, \"ternary\": {\"aaxis\": {\"gridcolor\": \"white\", \"linecolor\": \"white\", \"ticks\": \"\"}, \"baxis\": {\"gridcolor\": \"white\", \"linecolor\": \"white\", \"ticks\": \"\"}, \"bgcolor\": \"#E5ECF6\", \"caxis\": {\"gridcolor\": \"white\", \"linecolor\": \"white\", \"ticks\": \"\"}}, \"title\": {\"x\": 0.05}, \"xaxis\": {\"automargin\": true, \"gridcolor\": \"white\", \"linecolor\": \"white\", \"ticks\": \"\", \"title\": {\"standoff\": 15}, \"zerolinecolor\": \"white\", \"zerolinewidth\": 2}, \"yaxis\": {\"automargin\": true, \"gridcolor\": \"white\", \"linecolor\": \"white\", \"ticks\": \"\", \"title\": {\"standoff\": 15}, \"zerolinecolor\": \"white\", \"zerolinewidth\": 2}}}, \"title\": {\"text\": \"LinearSVC score for different texts\"}, \"xaxis\": {\"anchor\": \"y\", \"domain\": [0.0, 1.0], \"title\": {\"text\": \"Text\"}}, \"yaxis\": {\"anchor\": \"x\", \"domain\": [0.0, 1.0], \"title\": {\"text\": \"LinearSVC score\"}}},\n",
              "                        {\"responsive\": true}\n",
              "                    ).then(function(){\n",
              "                            \n",
              "var gd = document.getElementById('f4d5218e-0f88-4e84-8e45-60d70e49b7fc');\n",
              "var x = new MutationObserver(function (mutations, observer) {{\n",
              "        var display = window.getComputedStyle(gd).display;\n",
              "        if (!display || display === 'none') {{\n",
              "            console.log([gd, 'removed!']);\n",
              "            Plotly.purge(gd);\n",
              "            observer.disconnect();\n",
              "        }}\n",
              "}});\n",
              "\n",
              "// Listen for the removal of the full notebook cells\n",
              "var notebookContainer = gd.closest('#notebook-container');\n",
              "if (notebookContainer) {{\n",
              "    x.observe(notebookContainer, {childList: true});\n",
              "}}\n",
              "\n",
              "// Listen for the clearing of the current output cell\n",
              "var outputEl = gd.closest('.output');\n",
              "if (outputEl) {{\n",
              "    x.observe(outputEl, {childList: true});\n",
              "}}\n",
              "\n",
              "                        })\n",
              "                };\n",
              "                \n",
              "            </script>\n",
              "        </div>\n",
              "</body>\n",
              "</html>"
            ]
          },
          "metadata": {}
        }
      ]
    },
    {
      "cell_type": "markdown",
      "metadata": {
        "id": "J7qANF_xXjSi"
      },
      "source": [
        "**Что путает модель?**"
      ]
    },
    {
      "cell_type": "code",
      "metadata": {
        "colab": {
          "base_uri": "https://localhost:8080/",
          "height": 282
        },
        "id": "agDKXAPIXncq",
        "outputId": "5256eabd-d884-4538-e2ed-d31955fdc051"
      },
      "source": [
        "from sklearn.metrics import confusion_matrix\n",
        "\n",
        "predict = linearsvc.predict(X_test_idf_stemmed_gram)\n",
        "sns.heatmap(confusion_matrix(news_test.target, predict))\n",
        "# сразу видно что путаем 18 и 16 "
      ],
      "execution_count": null,
      "outputs": [
        {
          "output_type": "execute_result",
          "data": {
            "text/plain": [
              "<matplotlib.axes._subplots.AxesSubplot at 0x7f46b6a0cd50>"
            ]
          },
          "metadata": {},
          "execution_count": 141
        },
        {
          "output_type": "display_data",
          "data": {
            "image/png": "[encoded data removed]",
            "text/plain": [
              "<Figure size 432x288 with 2 Axes>"
            ]
          },
          "metadata": {
            "needs_background": "light"
          }
        }
      ]
    },
    {
      "cell_type": "code",
      "metadata": {
        "colab": {
          "base_uri": "https://localhost:8080/"
        },
        "id": "brKOD3QCYu-6",
        "outputId": "03621b23-2744-4214-e271-77d8b288b0ce"
      },
      "source": [
        "print(news_test.target_names[18], news_test.target_names[16]) # путаем подгруппы политики"
      ],
      "execution_count": null,
      "outputs": [
        {
          "output_type": "stream",
          "name": "stdout",
          "text": [
            "talk.politics.misc talk.politics.guns\n"
          ]
        }
      ]
    },
    {
      "cell_type": "markdown",
      "metadata": {
        "id": "au2I2carVsYF"
      },
      "source": [
        "***Итоги***\n",
        "\n",
        "**1)** LinearSVC показал себя лучше всех, лучшая accuracy 0.855 при обработке TF-IDF + stemming + ngram(1, 2) Хуже всего SVC показывает себя на обработке BOW + stemming - 0.781\n",
        "\n",
        "**2)** LogReg занимает второе место после SVC с лучшим результатом 0.832 при обработке TF-IDF + preprocessing. Хуже всего LogReg показывает себя на обработке BOW - 0.78\n",
        "\n",
        "**3)** KNN хуже всех. сразу было понятно, что для предсказывания текстов он не очень подходит, accuracy = 0.648\n",
        "\n",
        "**4)** увеличение ngrams_range может повысить accuracy, но сильно увеличивает количество признаков => время на обучение. Я остановился на ngrams_range = (1, 2)\n",
        "\n",
        "**5)** Я понял, что LinearSVC работает лучше LogReg. Это можно объяснить его функцией потерь, которая не поощеряет увеличивать отступы и для accuracy LinearSVC лучше LogReg\n",
        "\n",
        "В первую очередь я хотел познакомиться с текстами, это у меня получилось. Также повысил accuracy у LinearSVC. Я думаю, что при более скурпулёзной обработке + увеличении ngrams_range и использовании други моделей можно поднять качество повыше, но я хотел сделать это именно с помощью LinearSVC.\n"
      ]
    }
  ]
}